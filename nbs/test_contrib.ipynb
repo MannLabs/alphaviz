{
 "cells": [
  {
   "cell_type": "code",
   "execution_count": 1,
   "metadata": {},
   "outputs": [],
   "source": [
    "%reload_ext autoreload\n",
    "%autoreload 2"
   ]
  },
  {
   "cell_type": "code",
   "execution_count": 2,
   "metadata": {},
   "outputs": [
    {
     "name": "stdout",
     "output_type": "stream",
     "text": [
      "2023-12-13 21:24:00> WARNING: Temp mmap arrays are written to C:\\Users\\maxquant\\AppData\\Local\\Temp\\temp_mmap_npr6c15j. Cleanup of this folder is OS dependant, and might need to be triggered manually! Current space: 276840972288\n"
     ]
    }
   ],
   "source": [
    "from alphaviz.contrib.ms_viz import MS_Viz\n",
    "\n",
    "from peptdeep.pretrained_models import ModelManager\n",
    "\n",
    "model_mgr = ModelManager(mask_modloss=True)\n",
    "model_mgr.load_installed_models(\"phos\")\n",
    "ms_viz = MS_Viz(model_mgr)"
   ]
  },
  {
   "cell_type": "code",
   "execution_count": 3,
   "metadata": {},
   "outputs": [],
   "source": [
    "# path to the .raw folder or .hdf file\n",
    "raw_name = r\"yanliu_20180406_Phos_Noco_5\"\n",
    "raw_file = r'd:\\AlphaDeepData\\DeepPhospho\\Phos_PXD017476\\raw\\yanliu_20180406_Phos_Noco_5.raw'\n",
    "hdf = raw_file+\".hdf\"\n",
    "# path to the DIA-NN output folder\n",
    "diann_tsv = r'D:\\AlphaDeepData\\DeepPhospho\\Phos_PXD017476\\diann\\diann-report.tsv'\n",
    "model_mgr.instrument = 'QE'\n",
    "model_mgr.nce = 30"
   ]
  },
  {
   "cell_type": "code",
   "execution_count": 4,
   "metadata": {},
   "outputs": [],
   "source": [
    "import os\n",
    "\n",
    "if os.path.isfile(hdf):\n",
    "    ms_viz.load_ms_data(hdf, \"alpharaw_hdf\", dda=False)\n",
    "else:\n",
    "    ms_viz.load_ms_data(raw_file, 'thermo_raw', dda=False)\n",
    "    ms_viz.tims_match.raw_data.save_hdf(hdf)\n"
   ]
  },
  {
   "cell_type": "code",
   "execution_count": 5,
   "metadata": {},
   "outputs": [],
   "source": [
    "tims = ms_viz.tims_data"
   ]
  },
  {
   "cell_type": "code",
   "execution_count": 6,
   "metadata": {},
   "outputs": [
    {
     "data": {
      "text/html": [
       "<div>\n",
       "<style scoped>\n",
       "    .dataframe tbody tr th:only-of-type {\n",
       "        vertical-align: middle;\n",
       "    }\n",
       "\n",
       "    .dataframe tbody tr th {\n",
       "        vertical-align: top;\n",
       "    }\n",
       "\n",
       "    .dataframe thead th {\n",
       "        text-align: right;\n",
       "    }\n",
       "</style>\n",
       "<table border=\"1\" class=\"dataframe\">\n",
       "  <thead>\n",
       "    <tr style=\"text-align: right;\">\n",
       "      <th></th>\n",
       "      <th>raw_name</th>\n",
       "      <th>sequence</th>\n",
       "      <th>charge</th>\n",
       "      <th>rt</th>\n",
       "      <th>rt_start</th>\n",
       "      <th>rt_stop</th>\n",
       "      <th>mobility</th>\n",
       "      <th>proteins</th>\n",
       "      <th>uniprot_ids</th>\n",
       "      <th>genes</th>\n",
       "      <th>scan_num</th>\n",
       "      <th>score</th>\n",
       "      <th>fdr</th>\n",
       "      <th>spec_idx</th>\n",
       "      <th>mods</th>\n",
       "      <th>mod_sites</th>\n",
       "      <th>nAA</th>\n",
       "      <th>rt_norm</th>\n",
       "      <th>precursor_mz</th>\n",
       "      <th>ccs</th>\n",
       "    </tr>\n",
       "  </thead>\n",
       "  <tbody>\n",
       "    <tr>\n",
       "      <th>0</th>\n",
       "      <td>yanliu_20180406_Phos_Noco_5</td>\n",
       "      <td>MSFSSLK</td>\n",
       "      <td>2</td>\n",
       "      <td>66.0922</td>\n",
       "      <td>65.4704</td>\n",
       "      <td>66.3659</td>\n",
       "      <td>0</td>\n",
       "      <td>MERL_HUMAN</td>\n",
       "      <td>P35240</td>\n",
       "      <td>NF2</td>\n",
       "      <td>47365</td>\n",
       "      <td>0.995291</td>\n",
       "      <td>0.000364</td>\n",
       "      <td>47364</td>\n",
       "      <td>Phospho@S</td>\n",
       "      <td>2</td>\n",
       "      <td>7</td>\n",
       "      <td>0.492663</td>\n",
       "      <td>440.187730</td>\n",
       "      <td>0.0</td>\n",
       "    </tr>\n",
       "    <tr>\n",
       "      <th>1</th>\n",
       "      <td>yanliu_20180406_Phos_Noco_5</td>\n",
       "      <td>VNLSPNR</td>\n",
       "      <td>2</td>\n",
       "      <td>27.1092</td>\n",
       "      <td>26.6903</td>\n",
       "      <td>27.5131</td>\n",
       "      <td>0</td>\n",
       "      <td>IRS1_HUMAN</td>\n",
       "      <td>P35568</td>\n",
       "      <td>IRS1</td>\n",
       "      <td>19525</td>\n",
       "      <td>0.998135</td>\n",
       "      <td>0.000221</td>\n",
       "      <td>19524</td>\n",
       "      <td>Phospho@S</td>\n",
       "      <td>4</td>\n",
       "      <td>7</td>\n",
       "      <td>0.202077</td>\n",
       "      <td>440.207842</td>\n",
       "      <td>0.0</td>\n",
       "    </tr>\n",
       "    <tr>\n",
       "      <th>2</th>\n",
       "      <td>yanliu_20180406_Phos_Noco_5</td>\n",
       "      <td>TKPIWTR</td>\n",
       "      <td>2</td>\n",
       "      <td>43.1453</td>\n",
       "      <td>42.4249</td>\n",
       "      <td>43.4874</td>\n",
       "      <td>0</td>\n",
       "      <td>H90B2_HUMAN;HS902_HUMAN;HS90A_HUMAN;HS90B_HUMAN</td>\n",
       "      <td>Q14568;Q58FG0;P08238;Q58FF8;P07900</td>\n",
       "      <td>HSP90AA1;HSP90AA2P;HSP90AB1;HSP90AB2P</td>\n",
       "      <td>31169</td>\n",
       "      <td>0.962936</td>\n",
       "      <td>0.002406</td>\n",
       "      <td>31168</td>\n",
       "      <td>Phospho@T</td>\n",
       "      <td>1</td>\n",
       "      <td>7</td>\n",
       "      <td>0.321613</td>\n",
       "      <td>491.249510</td>\n",
       "      <td>0.0</td>\n",
       "    </tr>\n",
       "    <tr>\n",
       "      <th>3</th>\n",
       "      <td>yanliu_20180406_Phos_Noco_5</td>\n",
       "      <td>TCFSPNR</td>\n",
       "      <td>2</td>\n",
       "      <td>28.3949</td>\n",
       "      <td>27.9375</td>\n",
       "      <td>28.8160</td>\n",
       "      <td>0</td>\n",
       "      <td>EIF3F_HUMAN</td>\n",
       "      <td>O00303</td>\n",
       "      <td>EIF3F</td>\n",
       "      <td>20408</td>\n",
       "      <td>0.970795</td>\n",
       "      <td>0.002019</td>\n",
       "      <td>20407</td>\n",
       "      <td>Carbamidomethyl@C;Phospho@S</td>\n",
       "      <td>2;4</td>\n",
       "      <td>7</td>\n",
       "      <td>0.211661</td>\n",
       "      <td>481.183510</td>\n",
       "      <td>0.0</td>\n",
       "    </tr>\n",
       "    <tr>\n",
       "      <th>4</th>\n",
       "      <td>yanliu_20180406_Phos_Noco_5</td>\n",
       "      <td>NSPLVSR</td>\n",
       "      <td>2</td>\n",
       "      <td>22.1418</td>\n",
       "      <td>21.9145</td>\n",
       "      <td>22.3693</td>\n",
       "      <td>0</td>\n",
       "      <td>MDHM_HUMAN</td>\n",
       "      <td>P40926</td>\n",
       "      <td>MDH2</td>\n",
       "      <td>16124</td>\n",
       "      <td>0.998121</td>\n",
       "      <td>0.000221</td>\n",
       "      <td>16123</td>\n",
       "      <td>Phospho@S</td>\n",
       "      <td>2</td>\n",
       "      <td>7</td>\n",
       "      <td>0.165049</td>\n",
       "      <td>426.702393</td>\n",
       "      <td>0.0</td>\n",
       "    </tr>\n",
       "    <tr>\n",
       "      <th>...</th>\n",
       "      <td>...</td>\n",
       "      <td>...</td>\n",
       "      <td>...</td>\n",
       "      <td>...</td>\n",
       "      <td>...</td>\n",
       "      <td>...</td>\n",
       "      <td>...</td>\n",
       "      <td>...</td>\n",
       "      <td>...</td>\n",
       "      <td>...</td>\n",
       "      <td>...</td>\n",
       "      <td>...</td>\n",
       "      <td>...</td>\n",
       "      <td>...</td>\n",
       "      <td>...</td>\n",
       "      <td>...</td>\n",
       "      <td>...</td>\n",
       "      <td>...</td>\n",
       "      <td>...</td>\n",
       "      <td>...</td>\n",
       "    </tr>\n",
       "    <tr>\n",
       "      <th>34528</th>\n",
       "      <td>yanliu_20180406_Phos_Noco_5</td>\n",
       "      <td>LDIPDLMNEGSPVPIETGNVNIVGISYQPR</td>\n",
       "      <td>3</td>\n",
       "      <td>125.5330</td>\n",
       "      <td>125.2510</td>\n",
       "      <td>125.9490</td>\n",
       "      <td>0</td>\n",
       "      <td>CRBG3_HUMAN</td>\n",
       "      <td>Q68DQ2</td>\n",
       "      <td>CRYBG3</td>\n",
       "      <td>89998</td>\n",
       "      <td>0.999244</td>\n",
       "      <td>0.000196</td>\n",
       "      <td>89997</td>\n",
       "      <td>Phospho@S</td>\n",
       "      <td>11</td>\n",
       "      <td>30</td>\n",
       "      <td>0.935745</td>\n",
       "      <td>1106.542296</td>\n",
       "      <td>0.0</td>\n",
       "    </tr>\n",
       "    <tr>\n",
       "      <th>34529</th>\n",
       "      <td>yanliu_20180406_Phos_Noco_5</td>\n",
       "      <td>AGEPNSPDAEEANSPDVTAGCDPAGVHPPR</td>\n",
       "      <td>2</td>\n",
       "      <td>57.6047</td>\n",
       "      <td>57.1606</td>\n",
       "      <td>58.3218</td>\n",
       "      <td>0</td>\n",
       "      <td>NSUN2_HUMAN</td>\n",
       "      <td>Q08J23</td>\n",
       "      <td>NSUN2</td>\n",
       "      <td>41279</td>\n",
       "      <td>0.997631</td>\n",
       "      <td>0.000263</td>\n",
       "      <td>41278</td>\n",
       "      <td>Phospho@T;Carbamidomethyl@C</td>\n",
       "      <td>18;21</td>\n",
       "      <td>30</td>\n",
       "      <td>0.429396</td>\n",
       "      <td>1547.645845</td>\n",
       "      <td>0.0</td>\n",
       "    </tr>\n",
       "    <tr>\n",
       "      <th>34530</th>\n",
       "      <td>yanliu_20180406_Phos_Noco_5</td>\n",
       "      <td>AGEPNSPDAEEANSPDVTAGCDPAGVHPPR</td>\n",
       "      <td>2</td>\n",
       "      <td>58.8203</td>\n",
       "      <td>58.1026</td>\n",
       "      <td>59.5394</td>\n",
       "      <td>0</td>\n",
       "      <td>NSUN2_HUMAN</td>\n",
       "      <td>Q08J23</td>\n",
       "      <td>NSUN2</td>\n",
       "      <td>42159</td>\n",
       "      <td>0.990596</td>\n",
       "      <td>0.000612</td>\n",
       "      <td>42158</td>\n",
       "      <td>Carbamidomethyl@C</td>\n",
       "      <td>21</td>\n",
       "      <td>30</td>\n",
       "      <td>0.438457</td>\n",
       "      <td>1507.662679</td>\n",
       "      <td>0.0</td>\n",
       "    </tr>\n",
       "    <tr>\n",
       "      <th>34531</th>\n",
       "      <td>yanliu_20180406_Phos_Noco_5</td>\n",
       "      <td>HDDSSDNFCEADDIQSPEAEYVDLLLNPER</td>\n",
       "      <td>3</td>\n",
       "      <td>119.4340</td>\n",
       "      <td>118.9650</td>\n",
       "      <td>119.6590</td>\n",
       "      <td>0</td>\n",
       "      <td>ERO1A_HUMAN</td>\n",
       "      <td>Q96HE7</td>\n",
       "      <td>ERO1A</td>\n",
       "      <td>85799</td>\n",
       "      <td>0.999642</td>\n",
       "      <td>0.000151</td>\n",
       "      <td>85798</td>\n",
       "      <td>Carbamidomethyl@C</td>\n",
       "      <td>9</td>\n",
       "      <td>30</td>\n",
       "      <td>0.890282</td>\n",
       "      <td>1165.170594</td>\n",
       "      <td>0.0</td>\n",
       "    </tr>\n",
       "    <tr>\n",
       "      <th>34532</th>\n",
       "      <td>yanliu_20180406_Phos_Noco_5</td>\n",
       "      <td>EQSETTAEGGQGQAQEGPAQPGEPEAEGSR</td>\n",
       "      <td>4</td>\n",
       "      <td>36.2673</td>\n",
       "      <td>36.0533</td>\n",
       "      <td>36.5884</td>\n",
       "      <td>0</td>\n",
       "      <td>RIN1_HUMAN</td>\n",
       "      <td>Q13671</td>\n",
       "      <td>RIN1</td>\n",
       "      <td>26069</td>\n",
       "      <td>0.998490</td>\n",
       "      <td>0.000221</td>\n",
       "      <td>26068</td>\n",
       "      <td></td>\n",
       "      <td></td>\n",
       "      <td>30</td>\n",
       "      <td>0.270343</td>\n",
       "      <td>753.831691</td>\n",
       "      <td>0.0</td>\n",
       "    </tr>\n",
       "  </tbody>\n",
       "</table>\n",
       "<p>34533 rows × 20 columns</p>\n",
       "</div>"
      ],
      "text/plain": [
       "                          raw_name                        sequence  charge   \n",
       "0      yanliu_20180406_Phos_Noco_5                         MSFSSLK       2  \\\n",
       "1      yanliu_20180406_Phos_Noco_5                         VNLSPNR       2   \n",
       "2      yanliu_20180406_Phos_Noco_5                         TKPIWTR       2   \n",
       "3      yanliu_20180406_Phos_Noco_5                         TCFSPNR       2   \n",
       "4      yanliu_20180406_Phos_Noco_5                         NSPLVSR       2   \n",
       "...                            ...                             ...     ...   \n",
       "34528  yanliu_20180406_Phos_Noco_5  LDIPDLMNEGSPVPIETGNVNIVGISYQPR       3   \n",
       "34529  yanliu_20180406_Phos_Noco_5  AGEPNSPDAEEANSPDVTAGCDPAGVHPPR       2   \n",
       "34530  yanliu_20180406_Phos_Noco_5  AGEPNSPDAEEANSPDVTAGCDPAGVHPPR       2   \n",
       "34531  yanliu_20180406_Phos_Noco_5  HDDSSDNFCEADDIQSPEAEYVDLLLNPER       3   \n",
       "34532  yanliu_20180406_Phos_Noco_5  EQSETTAEGGQGQAQEGPAQPGEPEAEGSR       4   \n",
       "\n",
       "             rt  rt_start   rt_stop  mobility   \n",
       "0       66.0922   65.4704   66.3659         0  \\\n",
       "1       27.1092   26.6903   27.5131         0   \n",
       "2       43.1453   42.4249   43.4874         0   \n",
       "3       28.3949   27.9375   28.8160         0   \n",
       "4       22.1418   21.9145   22.3693         0   \n",
       "...         ...       ...       ...       ...   \n",
       "34528  125.5330  125.2510  125.9490         0   \n",
       "34529   57.6047   57.1606   58.3218         0   \n",
       "34530   58.8203   58.1026   59.5394         0   \n",
       "34531  119.4340  118.9650  119.6590         0   \n",
       "34532   36.2673   36.0533   36.5884         0   \n",
       "\n",
       "                                              proteins   \n",
       "0                                           MERL_HUMAN  \\\n",
       "1                                           IRS1_HUMAN   \n",
       "2      H90B2_HUMAN;HS902_HUMAN;HS90A_HUMAN;HS90B_HUMAN   \n",
       "3                                          EIF3F_HUMAN   \n",
       "4                                           MDHM_HUMAN   \n",
       "...                                                ...   \n",
       "34528                                      CRBG3_HUMAN   \n",
       "34529                                      NSUN2_HUMAN   \n",
       "34530                                      NSUN2_HUMAN   \n",
       "34531                                      ERO1A_HUMAN   \n",
       "34532                                       RIN1_HUMAN   \n",
       "\n",
       "                              uniprot_ids   \n",
       "0                                  P35240  \\\n",
       "1                                  P35568   \n",
       "2      Q14568;Q58FG0;P08238;Q58FF8;P07900   \n",
       "3                                  O00303   \n",
       "4                                  P40926   \n",
       "...                                   ...   \n",
       "34528                              Q68DQ2   \n",
       "34529                              Q08J23   \n",
       "34530                              Q08J23   \n",
       "34531                              Q96HE7   \n",
       "34532                              Q13671   \n",
       "\n",
       "                                       genes  scan_num     score       fdr   \n",
       "0                                        NF2     47365  0.995291  0.000364  \\\n",
       "1                                       IRS1     19525  0.998135  0.000221   \n",
       "2      HSP90AA1;HSP90AA2P;HSP90AB1;HSP90AB2P     31169  0.962936  0.002406   \n",
       "3                                      EIF3F     20408  0.970795  0.002019   \n",
       "4                                       MDH2     16124  0.998121  0.000221   \n",
       "...                                      ...       ...       ...       ...   \n",
       "34528                                 CRYBG3     89998  0.999244  0.000196   \n",
       "34529                                  NSUN2     41279  0.997631  0.000263   \n",
       "34530                                  NSUN2     42159  0.990596  0.000612   \n",
       "34531                                  ERO1A     85799  0.999642  0.000151   \n",
       "34532                                   RIN1     26069  0.998490  0.000221   \n",
       "\n",
       "       spec_idx                         mods mod_sites  nAA   rt_norm   \n",
       "0         47364                    Phospho@S         2    7  0.492663  \\\n",
       "1         19524                    Phospho@S         4    7  0.202077   \n",
       "2         31168                    Phospho@T         1    7  0.321613   \n",
       "3         20407  Carbamidomethyl@C;Phospho@S       2;4    7  0.211661   \n",
       "4         16123                    Phospho@S         2    7  0.165049   \n",
       "...         ...                          ...       ...  ...       ...   \n",
       "34528     89997                    Phospho@S        11   30  0.935745   \n",
       "34529     41278  Phospho@T;Carbamidomethyl@C     18;21   30  0.429396   \n",
       "34530     42158            Carbamidomethyl@C        21   30  0.438457   \n",
       "34531     85798            Carbamidomethyl@C         9   30  0.890282   \n",
       "34532     26068                                          30  0.270343   \n",
       "\n",
       "       precursor_mz  ccs  \n",
       "0        440.187730  0.0  \n",
       "1        440.207842  0.0  \n",
       "2        491.249510  0.0  \n",
       "3        481.183510  0.0  \n",
       "4        426.702393  0.0  \n",
       "...             ...  ...  \n",
       "34528   1106.542296  0.0  \n",
       "34529   1547.645845  0.0  \n",
       "34530   1507.662679  0.0  \n",
       "34531   1165.170594  0.0  \n",
       "34532    753.831691  0.0  \n",
       "\n",
       "[34533 rows x 20 columns]"
      ]
     },
     "execution_count": 6,
     "metadata": {},
     "output_type": "execute_result"
    }
   ],
   "source": [
    "ms_viz.load_psms(\n",
    "    diann_tsv, 'diann', \n",
    ")\n",
    "ms_viz.psm_df"
   ]
  },
  {
   "cell_type": "markdown",
   "metadata": {},
   "source": []
  },
  {
   "cell_type": "markdown",
   "metadata": {},
   "source": [
    "# Plot"
   ]
  },
  {
   "cell_type": "code",
   "execution_count": 9,
   "metadata": {},
   "outputs": [
    {
     "data": {
      "application/vnd.plotly.v1+json": {
       "config": {
        "plotlyServerURL": "https://plot.ly"
       },
       "data": [
        {
         "hovertemplate": "<b>%{hovertext}</b><br><b>m/z:</b> %{x}<br><b>intensity:</b> %{y}",
         "hovertext": [
          "b2+",
          "b3+"
         ],
         "marker": {
          "color": "blue",
          "size": 1
         },
         "mode": "markers",
         "name": "",
         "showlegend": false,
         "type": "scatter",
         "x": [
          245.0776,
          302.0994
         ],
         "xaxis": "x2",
         "y": [
          16335.4443359375,
          8961.103515625
         ],
         "yaxis": "y2"
        },
        {
         "hovertemplate": "<b>%{hovertext}</b><br><b>m/z:</b> %{x}<br><b>intensity:</b> %{y}",
         "hovertext": [
          "b2+",
          "b3+",
          "b4+",
          "b5+"
         ],
         "marker": {
          "color": "blue",
          "size": 1
         },
         "mode": "markers",
         "name": "",
         "showlegend": false,
         "type": "scatter",
         "x": [
          245.07681274414062,
          302.0982666015625,
          431.140869140625,
          546.1677856445312
         ],
         "xaxis": "x2",
         "y": [
          -15578.2451171875,
          -12002.8017578125,
          -3062.467529296875,
          -1613.3524169921875
         ],
         "yaxis": "y2"
        },
        {
         "hovertemplate": "<b>%{hovertext}</b><br><b>m/z:</b> %{x}<br><b>intensity:</b> %{y}",
         "hovertext": [
          "y12+",
          "y11+",
          "y10+",
          "y8+",
          "y6+",
          "y5+",
          "y4+",
          "y3+",
          "y2+",
          "y18++",
          "y16++",
          "y15++",
          "y14++",
          "y13++",
          "y12++",
          "y11++",
          "y9++",
          "y6++"
         ],
         "marker": {
          "color": "red",
          "size": 1
         },
         "mode": "markers",
         "name": "",
         "showlegend": false,
         "type": "scatter",
         "x": [
          1214.5461,
          1085.4935,
          1028.46,
          856.3925,
          640.3109,
          503.2581,
          446.2445,
          389.2157,
          261.1563,
          944.3784,
          851.3494,
          793.8434,
          729.3202,
          672.3068,
          607.7729,
          543.2556,
          464.2139,
          320.6614
         ],
         "xaxis": "x2",
         "y": [
          7491.03857421875,
          12858.77734375,
          10056.6240234375,
          13455.0703125,
          15786.1025390625,
          8285.6259765625,
          5062.794921875,
          4916.62060546875,
          6257.3486328125,
          10345.6533203125,
          21269.287109375,
          16115.67578125,
          17215.8125,
          26148.66796875,
          42443.6484375,
          18536.013671875,
          6844.7421875,
          3528.82470703125
         ],
         "yaxis": "y2"
        },
        {
         "hovertemplate": "<b>%{hovertext}</b><br><b>m/z:</b> %{x}<br><b>intensity:</b> %{y}",
         "hovertext": [
          "y13+",
          "y12+",
          "y11+",
          "y10+",
          "y9+",
          "y8+",
          "y7+",
          "y6+",
          "y5+",
          "y4+",
          "y2+",
          "y18++",
          "y16++",
          "y15++",
          "y14++",
          "y13++",
          "y12++",
          "y11++",
          "y10++",
          "y9++",
          "y8++",
          "y6++"
         ],
         "marker": {
          "color": "red",
          "size": 1
         },
         "mode": "markers",
         "name": "",
         "showlegend": false,
         "type": "scatter",
         "x": [
          1343.5821533203125,
          1214.5396728515625,
          1085.4970703125,
          1028.4755859375,
          927.4278564453125,
          856.3907470703125,
          769.3587646484375,
          640.316162109375,
          503.2572326660156,
          446.23577880859375,
          261.1557312011719,
          944.3829956054688,
          851.3509521484375,
          793.8375244140625,
          729.3162231445312,
          672.2947387695312,
          607.7734375,
          543.2521362304688,
          514.7413940429688,
          464.21759033203125,
          428.69903564453125,
          320.6617126464844
         ],
         "xaxis": "x2",
         "y": [
          -353.3558349609375,
          -11497.1533203125,
          -33338.74609375,
          -10294.1513671875,
          -28948.345703125,
          -37988.01171875,
          -13108.318359375,
          -36106.15234375,
          -42443.6484375,
          -8511.017578125,
          -14287.1484375,
          -8327.794921875,
          -26247.033203125,
          -12351.8330078125,
          -24294.029296875,
          -15543.7490234375,
          -21587.69921875,
          -30068.783203125,
          -6809.56591796875,
          -11933.349609375,
          -8327.9189453125,
          -5889.1396484375
         ],
         "yaxis": "y2"
        },
        {
         "hovertemplate": "%{hovertext}<br><b>m/z:</b> %{x}<br><b>Mass err:</b> %{y}",
         "hovertext": [
          "b2+",
          "b3+"
         ],
         "marker": {
          "color": "blue",
          "size": 5
         },
         "mode": "markers",
         "name": "b ions",
         "showlegend": false,
         "type": "scatter",
         "x": [
          245.0776,
          302.0994
         ],
         "xaxis": "x3",
         "y": [
          0,
          0
         ],
         "yaxis": "y3"
        },
        {
         "hovertemplate": "%{hovertext}<br><b>m/z:</b> %{x}<br><b>Mass err:</b> %{y}",
         "hovertext": [
          "y12+",
          "y11+",
          "y10+",
          "y8+",
          "y6+",
          "y5+",
          "y4+",
          "y3+",
          "y2+",
          "y18++",
          "y16++",
          "y15++",
          "y14++",
          "y13++",
          "y12++",
          "y11++",
          "y9++",
          "y6++"
         ],
         "marker": {
          "color": "red",
          "size": 5
         },
         "mode": "markers",
         "name": "y ions",
         "showlegend": false,
         "type": "scatter",
         "x": [
          1214.5461,
          1085.4935,
          1028.46,
          856.3925,
          640.3109,
          503.2581,
          446.2445,
          389.2157,
          261.1563,
          944.3784,
          851.3494,
          793.8434,
          729.3202,
          672.3068,
          607.7729,
          543.2556,
          464.2139,
          320.6614
         ],
         "xaxis": "x3",
         "y": [
          0,
          0,
          0,
          0,
          0,
          0,
          0,
          0,
          0,
          0,
          0,
          0,
          0,
          0,
          0,
          0,
          0,
          0
         ],
         "yaxis": "y3"
        },
        {
         "hoverinfo": "skip",
         "line": {
          "width": 1
         },
         "marker": {
          "color": "blue"
         },
         "mode": "lines",
         "showlegend": false,
         "type": "scatter",
         "x": [
          398.8675604248047,
          420.8376672363281,
          420.8376672363281
         ],
         "xaxis": "x",
         "y": [
          0.6,
          0.6,
          0.4
         ],
         "yaxis": "y"
        },
        {
         "hoverinfo": "skip",
         "line": {
          "width": 1
         },
         "marker": {
          "color": "blue"
         },
         "mode": "lines",
         "showlegend": false,
         "type": "scatter",
         "x": [
          442.8077740478516,
          464.77788085937505,
          464.77788085937505
         ],
         "xaxis": "x",
         "y": [
          0.6,
          0.6,
          0.4
         ],
         "yaxis": "y"
        },
        {
         "hoverinfo": "skip",
         "line": {
          "width": 1
         },
         "marker": {
          "color": "red"
         },
         "mode": "lines",
         "showlegend": false,
         "type": "scatter",
         "x": [
          442.8077740478516,
          420.8376672363281,
          420.8376672363281
         ],
         "xaxis": "x",
         "y": [
          -0.6,
          -0.6,
          -0.4
         ],
         "yaxis": "y"
        },
        {
         "hoverinfo": "skip",
         "line": {
          "width": 1
         },
         "marker": {
          "color": "red"
         },
         "mode": "lines",
         "showlegend": false,
         "type": "scatter",
         "x": [
          530.6882012939453,
          508.71809448242186,
          508.71809448242186
         ],
         "xaxis": "x",
         "y": [
          -0.6,
          -0.6,
          -0.4
         ],
         "yaxis": "y"
        },
        {
         "hoverinfo": "skip",
         "line": {
          "width": 1
         },
         "marker": {
          "color": "red"
         },
         "mode": "lines",
         "showlegend": false,
         "type": "scatter",
         "x": [
          574.6284149169923,
          552.6583081054689,
          552.6583081054689
         ],
         "xaxis": "x",
         "y": [
          -0.6,
          -0.6,
          -0.4
         ],
         "yaxis": "y"
        },
        {
         "hoverinfo": "skip",
         "line": {
          "width": 1
         },
         "marker": {
          "color": "red"
         },
         "mode": "lines",
         "showlegend": false,
         "type": "scatter",
         "x": [
          618.5686285400391,
          596.5985217285156,
          596.5985217285156
         ],
         "xaxis": "x",
         "y": [
          -0.6,
          -0.6,
          -0.4
         ],
         "yaxis": "y"
        },
        {
         "hoverinfo": "skip",
         "line": {
          "width": 1
         },
         "marker": {
          "color": "red"
         },
         "mode": "lines",
         "showlegend": false,
         "type": "scatter",
         "x": [
          662.508842163086,
          640.5387353515625,
          640.5387353515625
         ],
         "xaxis": "x",
         "y": [
          -0.6,
          -0.6,
          -0.4
         ],
         "yaxis": "y"
        },
        {
         "hoverinfo": "skip",
         "line": {
          "width": 1
         },
         "marker": {
          "color": "red"
         },
         "mode": "lines",
         "showlegend": false,
         "type": "scatter",
         "x": [
          706.4490557861329,
          684.4789489746095,
          684.4789489746095
         ],
         "xaxis": "x",
         "y": [
          -0.6,
          -0.6,
          -0.4
         ],
         "yaxis": "y"
        },
        {
         "hoverinfo": "skip",
         "line": {
          "width": 1
         },
         "marker": {
          "color": "red"
         },
         "mode": "lines",
         "showlegend": false,
         "type": "scatter",
         "x": [
          750.3892694091797,
          728.4191625976564,
          728.4191625976564
         ],
         "xaxis": "x",
         "y": [
          -0.6,
          -0.6,
          -0.4
         ],
         "yaxis": "y"
        },
        {
         "hoverinfo": "skip",
         "line": {
          "width": 1
         },
         "marker": {
          "color": "red"
         },
         "mode": "lines",
         "showlegend": false,
         "type": "scatter",
         "x": [
          794.3294830322266,
          772.3593762207031,
          772.3593762207031
         ],
         "xaxis": "x",
         "y": [
          -0.6,
          -0.6,
          -0.4
         ],
         "yaxis": "y"
        },
        {
         "hoverinfo": "skip",
         "line": {
          "width": 1
         },
         "marker": {
          "color": "red"
         },
         "mode": "lines",
         "showlegend": false,
         "type": "scatter",
         "x": [
          838.2696966552735,
          816.29958984375,
          816.29958984375
         ],
         "xaxis": "x",
         "y": [
          -0.6,
          -0.6,
          -0.4
         ],
         "yaxis": "y"
        },
        {
         "hoverinfo": "skip",
         "line": {
          "width": 1
         },
         "marker": {
          "color": "red"
         },
         "mode": "lines",
         "showlegend": false,
         "type": "scatter",
         "x": [
          882.2099102783204,
          860.239803466797,
          860.239803466797
         ],
         "xaxis": "x",
         "y": [
          -0.6,
          -0.6,
          -0.4
         ],
         "yaxis": "y"
        },
        {
         "hoverinfo": "skip",
         "line": {
          "width": 1
         },
         "marker": {
          "color": "red"
         },
         "mode": "lines",
         "showlegend": false,
         "type": "scatter",
         "x": [
          970.0903375244142,
          948.1202307128908,
          948.1202307128908
         ],
         "xaxis": "x",
         "y": [
          -0.6,
          -0.6,
          -0.4
         ],
         "yaxis": "y"
        },
        {
         "hoverinfo": "skip",
         "line": {
          "width": 1
         },
         "marker": {
          "color": "red"
         },
         "mode": "lines",
         "showlegend": false,
         "type": "scatter",
         "x": [
          1014.030551147461,
          992.0604443359375,
          992.0604443359375
         ],
         "xaxis": "x",
         "y": [
          -0.6,
          -0.6,
          -0.4
         ],
         "yaxis": "y"
        },
        {
         "hoverinfo": "skip",
         "line": {
          "width": 1
         },
         "marker": {
          "color": "red"
         },
         "mode": "lines",
         "showlegend": false,
         "type": "scatter",
         "x": [
          1057.970764770508,
          1036.0006579589844,
          1036.0006579589844
         ],
         "xaxis": "x",
         "y": [
          -0.6,
          -0.6,
          -0.4
         ],
         "yaxis": "y"
        },
        {
         "hoverinfo": "skip",
         "line": {
          "width": 1
         },
         "marker": {
          "color": "red"
         },
         "mode": "lines",
         "showlegend": false,
         "type": "scatter",
         "x": [
          1101.9109783935548,
          1079.9408715820314,
          1079.9408715820314
         ],
         "xaxis": "x",
         "y": [
          -0.6,
          -0.6,
          -0.4
         ],
         "yaxis": "y"
        },
        {
         "hoverinfo": "skip",
         "line": {
          "width": 1
         },
         "marker": {
          "color": "red"
         },
         "mode": "lines",
         "showlegend": false,
         "type": "scatter",
         "x": [
          1145.8511920166015,
          1123.881085205078,
          1123.881085205078
         ],
         "xaxis": "x",
         "y": [
          -0.6,
          -0.6,
          -0.4
         ],
         "yaxis": "y"
        }
       ],
       "layout": {
        "annotations": [
         {
          "font": {
           "size": 10
          },
          "text": "b2+",
          "textangle": -90,
          "x": 245.0776,
          "xref": "x2",
          "y": 17184.3173046875,
          "yref": "y2"
         },
         {
          "font": {
           "size": 10
          },
          "text": "b3+",
          "textangle": -90,
          "x": 302.0994,
          "xref": "x2",
          "y": 9809.976484375,
          "yref": "y2"
         },
         {
          "font": {
           "size": 10
          },
          "text": "y12+",
          "textangle": -90,
          "x": 1214.5461,
          "xref": "x2",
          "y": 8339.91154296875,
          "yref": "y2"
         },
         {
          "font": {
           "size": 10
          },
          "text": "y11+",
          "textangle": -90,
          "x": 1085.4935,
          "xref": "x2",
          "y": 13707.6503125,
          "yref": "y2"
         },
         {
          "font": {
           "size": 10
          },
          "text": "y10+",
          "textangle": -90,
          "x": 1028.46,
          "xref": "x2",
          "y": 10905.4969921875,
          "yref": "y2"
         },
         {
          "font": {
           "size": 10
          },
          "text": "y8+",
          "textangle": -90,
          "x": 856.3925,
          "xref": "x2",
          "y": 14303.94328125,
          "yref": "y2"
         },
         {
          "font": {
           "size": 10
          },
          "text": "y6+",
          "textangle": -90,
          "x": 640.3109,
          "xref": "x2",
          "y": 16634.9755078125,
          "yref": "y2"
         },
         {
          "font": {
           "size": 10
          },
          "text": "y5+",
          "textangle": -90,
          "x": 503.2581,
          "xref": "x2",
          "y": 9134.4989453125,
          "yref": "y2"
         },
         {
          "font": {
           "size": 10
          },
          "text": "y4+",
          "textangle": -90,
          "x": 446.2445,
          "xref": "x2",
          "y": 5911.667890625,
          "yref": "y2"
         },
         {
          "font": {
           "size": 10
          },
          "text": "y3+",
          "textangle": -90,
          "x": 389.2157,
          "xref": "x2",
          "y": 5765.49357421875,
          "yref": "y2"
         },
         {
          "font": {
           "size": 10
          },
          "text": "y2+",
          "textangle": -90,
          "x": 261.1563,
          "xref": "x2",
          "y": 7106.2216015625,
          "yref": "y2"
         },
         {
          "font": {
           "size": 10
          },
          "text": "y18++",
          "textangle": -90,
          "x": 944.3784,
          "xref": "x2",
          "y": 11194.5262890625,
          "yref": "y2"
         },
         {
          "font": {
           "size": 10
          },
          "text": "y16++",
          "textangle": -90,
          "x": 851.3494,
          "xref": "x2",
          "y": 22118.160078125,
          "yref": "y2"
         },
         {
          "font": {
           "size": 10
          },
          "text": "y15++",
          "textangle": -90,
          "x": 793.8434,
          "xref": "x2",
          "y": 16964.54875,
          "yref": "y2"
         },
         {
          "font": {
           "size": 10
          },
          "text": "y14++",
          "textangle": -90,
          "x": 729.3202,
          "xref": "x2",
          "y": 18064.68546875,
          "yref": "y2"
         },
         {
          "font": {
           "size": 10
          },
          "text": "y13++",
          "textangle": -90,
          "x": 672.3068,
          "xref": "x2",
          "y": 26997.5409375,
          "yref": "y2"
         },
         {
          "font": {
           "size": 10
          },
          "text": "y12++",
          "textangle": -90,
          "x": 607.7729,
          "xref": "x2",
          "y": 43292.52140625,
          "yref": "y2"
         },
         {
          "font": {
           "size": 10
          },
          "text": "y11++",
          "textangle": -90,
          "x": 543.2556,
          "xref": "x2",
          "y": 19384.886640625,
          "yref": "y2"
         },
         {
          "font": {
           "size": 10
          },
          "text": "y9++",
          "textangle": -90,
          "x": 464.2139,
          "xref": "x2",
          "y": 7693.61515625,
          "yref": "y2"
         },
         {
          "font": {
           "size": 10
          },
          "text": "y6++",
          "textangle": -90,
          "x": 320.6614,
          "xref": "x2",
          "y": 4377.69767578125,
          "yref": "y2"
         },
         {
          "ay": -17917.744482421876,
          "ayref": "y2",
          "font": {
           "size": 10
          },
          "text": "b4+",
          "textangle": -90,
          "x": 431.140869140625,
          "xref": "x2",
          "y": -3911.340498046875,
          "yref": "y2"
         },
         {
          "ay": -16468.62937011719,
          "ayref": "y2",
          "font": {
           "size": 10
          },
          "text": "b5+",
          "textangle": -90,
          "x": 546.1677856445312,
          "xref": "x2",
          "y": -2462.2253857421874,
          "yref": "y2"
         },
         {
          "ay": -15916.026928710939,
          "ayref": "y2",
          "font": {
           "size": 10
          },
          "text": "y13+",
          "textangle": -90,
          "x": 1343.5821533203125,
          "xref": "x2",
          "y": -1202.2288037109374,
          "yref": "y2"
         },
         {
          "ay": -43803.62265625,
          "ayref": "y2",
          "font": {
           "size": 10
          },
          "text": "y9+",
          "textangle": -90,
          "x": 927.4278564453125,
          "xref": "x2",
          "y": -29797.218671875,
          "yref": "y2"
         },
         {
          "ay": -27963.5953125,
          "ayref": "y2",
          "font": {
           "size": 10
          },
          "text": "y7+",
          "textangle": -90,
          "x": 769.3587646484375,
          "xref": "x2",
          "y": -13957.191328125,
          "yref": "y2"
         },
         {
          "ay": -23079.63115234375,
          "ayref": "y2",
          "font": {
           "size": 10
          },
          "text": "y10++",
          "textangle": -90,
          "x": 514.7413940429688,
          "xref": "x2",
          "y": -7658.43888671875,
          "yref": "y2"
         },
         {
          "ay": -23890.590039062503,
          "ayref": "y2",
          "font": {
           "size": 10
          },
          "text": "y8++",
          "textangle": -90,
          "x": 428.69903564453125,
          "xref": "x2",
          "y": -9176.7919140625,
          "yref": "y2"
         },
         {
          "align": "center",
          "font": {
           "size": 14
          },
          "showarrow": false,
          "text": "E",
          "x": 354.92734680175784,
          "xref": "x",
          "y": 0,
          "yref": "y",
          "yshift": 1
         },
         {
          "align": "center",
          "font": {
           "size": 14
          },
          "showarrow": false,
          "text": "D",
          "x": 398.8675604248047,
          "xref": "x",
          "y": 0,
          "yref": "y",
          "yshift": 1
         },
         {
          "align": "center",
          "font": {
           "size": 14
          },
          "showarrow": false,
          "text": "G",
          "x": 442.8077740478516,
          "xref": "x",
          "y": 0,
          "yref": "y",
          "yshift": 1
         },
         {
          "align": "center",
          "font": {
           "size": 14
          },
          "showarrow": false,
          "text": "E",
          "x": 486.7479876708985,
          "xref": "x",
          "y": 0,
          "yref": "y",
          "yshift": 1
         },
         {
          "align": "center",
          "font": {
           "size": 14
          },
          "showarrow": false,
          "text": "D",
          "x": 530.6882012939453,
          "xref": "x",
          "y": 0,
          "yref": "y",
          "yshift": 1
         },
         {
          "align": "center",
          "font": {
           "size": 14
          },
          "showarrow": false,
          "text": "E",
          "x": 574.6284149169923,
          "xref": "x",
          "y": 0,
          "yref": "y",
          "yshift": 1
         },
         {
          "align": "center",
          "font": {
           "size": 14
          },
          "showarrow": false,
          "text": "N",
          "x": 618.5686285400391,
          "xref": "x",
          "y": 0,
          "yref": "y",
          "yshift": 1
         },
         {
          "align": "center",
          "font": {
           "size": 14
          },
          "showarrow": false,
          "text": "E",
          "x": 662.508842163086,
          "xref": "x",
          "y": 0,
          "yref": "y",
          "yshift": 1
         },
         {
          "align": "center",
          "font": {
           "size": 14
          },
          "showarrow": false,
          "text": "E",
          "x": 706.4490557861329,
          "xref": "x",
          "y": 0,
          "yref": "y",
          "yshift": 1
         },
         {
          "align": "center",
          "font": {
           "size": 14
          },
          "showarrow": false,
          "text": "G",
          "x": 750.3892694091797,
          "xref": "x",
          "y": 0,
          "yref": "y",
          "yshift": 1
         },
         {
          "align": "center",
          "font": {
           "size": 14
          },
          "showarrow": false,
          "text": "T",
          "x": 794.3294830322266,
          "xref": "x",
          "y": 0,
          "yref": "y",
          "yshift": 1
         },
         {
          "align": "center",
          "font": {
           "size": 14
          },
          "showarrow": false,
          "text": "A",
          "x": 838.2696966552735,
          "xref": "x",
          "y": 0,
          "yref": "y",
          "yshift": 1
         },
         {
          "align": "center",
          "font": {
           "size": 14
          },
          "showarrow": false,
          "text": "S",
          "x": 882.2099102783204,
          "xref": "x",
          "y": 0,
          "yref": "y",
          "yshift": 1
         },
         {
          "align": "center",
          "font": {
           "size": 14
          },
          "showarrow": false,
          "text": "E",
          "x": 926.1501239013672,
          "xref": "x",
          "y": 0,
          "yref": "y",
          "yshift": 1
         },
         {
          "align": "center",
          "font": {
           "size": 14
          },
          "showarrow": false,
          "text": "H",
          "x": 970.0903375244142,
          "xref": "x",
          "y": 0,
          "yref": "y",
          "yshift": 1
         },
         {
          "align": "center",
          "font": {
           "size": 14
          },
          "showarrow": false,
          "text": "G",
          "x": 1014.030551147461,
          "xref": "x",
          "y": 0,
          "yref": "y",
          "yshift": 1
         },
         {
          "align": "center",
          "font": {
           "size": 14
          },
          "showarrow": false,
          "text": "G",
          "x": 1057.970764770508,
          "xref": "x",
          "y": 0,
          "yref": "y",
          "yshift": 1
         },
         {
          "align": "center",
          "font": {
           "size": 14
          },
          "showarrow": false,
          "text": "Q",
          "x": 1101.9109783935548,
          "xref": "x",
          "y": 0,
          "yref": "y",
          "yshift": 1
         },
         {
          "align": "center",
          "font": {
           "size": 14
          },
          "showarrow": false,
          "text": "N",
          "x": 1145.8511920166015,
          "xref": "x",
          "y": 0,
          "yref": "y",
          "yshift": 1
         },
         {
          "align": "center",
          "font": {
           "size": 14
          },
          "showarrow": false,
          "text": "K",
          "x": 1189.7914056396485,
          "xref": "x",
          "y": 0,
          "yref": "y",
          "yshift": 1
         },
         {
          "font": {
           "size": 8
          },
          "showarrow": false,
          "text": "b2",
          "x": 409.85261383056644,
          "xref": "x",
          "y": 1,
          "yref": "y"
         },
         {
          "font": {
           "size": 8
          },
          "showarrow": false,
          "text": "b3",
          "x": 453.7928274536133,
          "xref": "x",
          "y": 1,
          "yref": "y"
         },
         {
          "font": {
           "size": 8
          },
          "showarrow": false,
          "text": "y18",
          "x": 431.82272064208985,
          "xref": "x",
          "y": -1,
          "yref": "y"
         },
         {
          "font": {
           "size": 8
          },
          "showarrow": false,
          "text": "y16",
          "x": 519.7031478881836,
          "xref": "x",
          "y": -1,
          "yref": "y"
         },
         {
          "font": {
           "size": 8
          },
          "showarrow": false,
          "text": "y15",
          "x": 563.6433615112305,
          "xref": "x",
          "y": -1,
          "yref": "y"
         },
         {
          "font": {
           "size": 8
          },
          "showarrow": false,
          "text": "y14",
          "x": 607.5835751342773,
          "xref": "x",
          "y": -1,
          "yref": "y"
         },
         {
          "font": {
           "size": 8
          },
          "showarrow": false,
          "text": "y13",
          "x": 651.5237887573243,
          "xref": "x",
          "y": -1,
          "yref": "y"
         },
         {
          "font": {
           "size": 8
          },
          "showarrow": false,
          "text": "y12",
          "x": 695.4640023803712,
          "xref": "x",
          "y": -1,
          "yref": "y"
         },
         {
          "font": {
           "size": 8
          },
          "showarrow": false,
          "text": "y11",
          "x": 739.404216003418,
          "xref": "x",
          "y": -1,
          "yref": "y"
         },
         {
          "font": {
           "size": 8
          },
          "showarrow": false,
          "text": "y10",
          "x": 783.3444296264648,
          "xref": "x",
          "y": -1,
          "yref": "y"
         },
         {
          "font": {
           "size": 8
          },
          "showarrow": false,
          "text": "y9",
          "x": 827.2846432495118,
          "xref": "x",
          "y": -1,
          "yref": "y"
         },
         {
          "font": {
           "size": 8
          },
          "showarrow": false,
          "text": "y8",
          "x": 871.2248568725587,
          "xref": "x",
          "y": -1,
          "yref": "y"
         },
         {
          "font": {
           "size": 8
          },
          "showarrow": false,
          "text": "y6",
          "x": 959.1052841186524,
          "xref": "x",
          "y": -1,
          "yref": "y"
         },
         {
          "font": {
           "size": 8
          },
          "showarrow": false,
          "text": "y5",
          "x": 1003.0454977416993,
          "xref": "x",
          "y": -1,
          "yref": "y"
         },
         {
          "font": {
           "size": 8
          },
          "showarrow": false,
          "text": "y4",
          "x": 1046.9857113647463,
          "xref": "x",
          "y": -1,
          "yref": "y"
         },
         {
          "font": {
           "size": 8
          },
          "showarrow": false,
          "text": "y3",
          "x": 1090.9259249877932,
          "xref": "x",
          "y": -1,
          "yref": "y"
         },
         {
          "font": {
           "size": 8
          },
          "showarrow": false,
          "text": "y2",
          "x": 1134.8661386108397,
          "xref": "x",
          "y": -1,
          "yref": "y"
         }
        ],
        "height": 600,
        "hovermode": "x",
        "shapes": [
         {
          "line": {
           "color": "blue",
           "width": 1.5
          },
          "type": "line",
          "x0": 245.0776,
          "x1": 245.0776,
          "xref": "x2",
          "y0": 0,
          "y1": 16335.4443359375,
          "yref": "y2"
         },
         {
          "line": {
           "color": "blue",
           "width": 1.5
          },
          "type": "line",
          "x0": 302.0994,
          "x1": 302.0994,
          "xref": "x2",
          "y0": 0,
          "y1": 8961.103515625,
          "yref": "y2"
         },
         {
          "line": {
           "color": "red",
           "width": 1.5
          },
          "type": "line",
          "x0": 1214.5461,
          "x1": 1214.5461,
          "xref": "x2",
          "y0": 0,
          "y1": 7491.03857421875,
          "yref": "y2"
         },
         {
          "line": {
           "color": "red",
           "width": 1.5
          },
          "type": "line",
          "x0": 1085.4935,
          "x1": 1085.4935,
          "xref": "x2",
          "y0": 0,
          "y1": 12858.77734375,
          "yref": "y2"
         },
         {
          "line": {
           "color": "red",
           "width": 1.5
          },
          "type": "line",
          "x0": 1028.46,
          "x1": 1028.46,
          "xref": "x2",
          "y0": 0,
          "y1": 10056.6240234375,
          "yref": "y2"
         },
         {
          "line": {
           "color": "red",
           "width": 1.5
          },
          "type": "line",
          "x0": 856.3925,
          "x1": 856.3925,
          "xref": "x2",
          "y0": 0,
          "y1": 13455.0703125,
          "yref": "y2"
         },
         {
          "line": {
           "color": "red",
           "width": 1.5
          },
          "type": "line",
          "x0": 640.3109,
          "x1": 640.3109,
          "xref": "x2",
          "y0": 0,
          "y1": 15786.1025390625,
          "yref": "y2"
         },
         {
          "line": {
           "color": "red",
           "width": 1.5
          },
          "type": "line",
          "x0": 503.2581,
          "x1": 503.2581,
          "xref": "x2",
          "y0": 0,
          "y1": 8285.6259765625,
          "yref": "y2"
         },
         {
          "line": {
           "color": "red",
           "width": 1.5
          },
          "type": "line",
          "x0": 446.2445,
          "x1": 446.2445,
          "xref": "x2",
          "y0": 0,
          "y1": 5062.794921875,
          "yref": "y2"
         },
         {
          "line": {
           "color": "red",
           "width": 1.5
          },
          "type": "line",
          "x0": 389.2157,
          "x1": 389.2157,
          "xref": "x2",
          "y0": 0,
          "y1": 4916.62060546875,
          "yref": "y2"
         },
         {
          "line": {
           "color": "red",
           "width": 1.5
          },
          "type": "line",
          "x0": 261.1563,
          "x1": 261.1563,
          "xref": "x2",
          "y0": 0,
          "y1": 6257.3486328125,
          "yref": "y2"
         },
         {
          "line": {
           "color": "red",
           "width": 1.5
          },
          "type": "line",
          "x0": 944.3784,
          "x1": 944.3784,
          "xref": "x2",
          "y0": 0,
          "y1": 10345.6533203125,
          "yref": "y2"
         },
         {
          "line": {
           "color": "red",
           "width": 1.5
          },
          "type": "line",
          "x0": 851.3494,
          "x1": 851.3494,
          "xref": "x2",
          "y0": 0,
          "y1": 21269.287109375,
          "yref": "y2"
         },
         {
          "line": {
           "color": "red",
           "width": 1.5
          },
          "type": "line",
          "x0": 793.8434,
          "x1": 793.8434,
          "xref": "x2",
          "y0": 0,
          "y1": 16115.67578125,
          "yref": "y2"
         },
         {
          "line": {
           "color": "red",
           "width": 1.5
          },
          "type": "line",
          "x0": 729.3202,
          "x1": 729.3202,
          "xref": "x2",
          "y0": 0,
          "y1": 17215.8125,
          "yref": "y2"
         },
         {
          "line": {
           "color": "red",
           "width": 1.5
          },
          "type": "line",
          "x0": 672.3068,
          "x1": 672.3068,
          "xref": "x2",
          "y0": 0,
          "y1": 26148.66796875,
          "yref": "y2"
         },
         {
          "line": {
           "color": "red",
           "width": 1.5
          },
          "type": "line",
          "x0": 607.7729,
          "x1": 607.7729,
          "xref": "x2",
          "y0": 0,
          "y1": 42443.6484375,
          "yref": "y2"
         },
         {
          "line": {
           "color": "red",
           "width": 1.5
          },
          "type": "line",
          "x0": 543.2556,
          "x1": 543.2556,
          "xref": "x2",
          "y0": 0,
          "y1": 18536.013671875,
          "yref": "y2"
         },
         {
          "line": {
           "color": "red",
           "width": 1.5
          },
          "type": "line",
          "x0": 464.2139,
          "x1": 464.2139,
          "xref": "x2",
          "y0": 0,
          "y1": 6844.7421875,
          "yref": "y2"
         },
         {
          "line": {
           "color": "red",
           "width": 1.5
          },
          "type": "line",
          "x0": 320.6614,
          "x1": 320.6614,
          "xref": "x2",
          "y0": 0,
          "y1": 3528.82470703125,
          "yref": "y2"
         },
         {
          "line": {
           "color": "blue",
           "width": 1.5
          },
          "type": "line",
          "x0": 245.07681274414062,
          "x1": 245.07681274414062,
          "xref": "x2",
          "y0": 0,
          "y1": -15578.2451171875,
          "yref": "y2"
         },
         {
          "line": {
           "color": "blue",
           "width": 1.5
          },
          "type": "line",
          "x0": 302.0982666015625,
          "x1": 302.0982666015625,
          "xref": "x2",
          "y0": 0,
          "y1": -12002.8017578125,
          "yref": "y2"
         },
         {
          "line": {
           "color": "blue",
           "width": 1.5
          },
          "type": "line",
          "x0": 431.140869140625,
          "x1": 431.140869140625,
          "xref": "x2",
          "y0": 0,
          "y1": -3062.467529296875,
          "yref": "y2"
         },
         {
          "line": {
           "color": "blue",
           "width": 1.5
          },
          "type": "line",
          "x0": 546.1677856445312,
          "x1": 546.1677856445312,
          "xref": "x2",
          "y0": 0,
          "y1": -1613.3524169921875,
          "yref": "y2"
         },
         {
          "line": {
           "color": "red",
           "width": 1.5
          },
          "type": "line",
          "x0": 1343.5821533203125,
          "x1": 1343.5821533203125,
          "xref": "x2",
          "y0": 0,
          "y1": -353.3558349609375,
          "yref": "y2"
         },
         {
          "line": {
           "color": "red",
           "width": 1.5
          },
          "type": "line",
          "x0": 1214.5396728515625,
          "x1": 1214.5396728515625,
          "xref": "x2",
          "y0": 0,
          "y1": -11497.1533203125,
          "yref": "y2"
         },
         {
          "line": {
           "color": "red",
           "width": 1.5
          },
          "type": "line",
          "x0": 1085.4970703125,
          "x1": 1085.4970703125,
          "xref": "x2",
          "y0": 0,
          "y1": -33338.74609375,
          "yref": "y2"
         },
         {
          "line": {
           "color": "red",
           "width": 1.5
          },
          "type": "line",
          "x0": 1028.4755859375,
          "x1": 1028.4755859375,
          "xref": "x2",
          "y0": 0,
          "y1": -10294.1513671875,
          "yref": "y2"
         },
         {
          "line": {
           "color": "red",
           "width": 1.5
          },
          "type": "line",
          "x0": 927.4278564453125,
          "x1": 927.4278564453125,
          "xref": "x2",
          "y0": 0,
          "y1": -28948.345703125,
          "yref": "y2"
         },
         {
          "line": {
           "color": "red",
           "width": 1.5
          },
          "type": "line",
          "x0": 856.3907470703125,
          "x1": 856.3907470703125,
          "xref": "x2",
          "y0": 0,
          "y1": -37988.01171875,
          "yref": "y2"
         },
         {
          "line": {
           "color": "red",
           "width": 1.5
          },
          "type": "line",
          "x0": 769.3587646484375,
          "x1": 769.3587646484375,
          "xref": "x2",
          "y0": 0,
          "y1": -13108.318359375,
          "yref": "y2"
         },
         {
          "line": {
           "color": "red",
           "width": 1.5
          },
          "type": "line",
          "x0": 640.316162109375,
          "x1": 640.316162109375,
          "xref": "x2",
          "y0": 0,
          "y1": -36106.15234375,
          "yref": "y2"
         },
         {
          "line": {
           "color": "red",
           "width": 1.5
          },
          "type": "line",
          "x0": 503.2572326660156,
          "x1": 503.2572326660156,
          "xref": "x2",
          "y0": 0,
          "y1": -42443.6484375,
          "yref": "y2"
         },
         {
          "line": {
           "color": "red",
           "width": 1.5
          },
          "type": "line",
          "x0": 446.23577880859375,
          "x1": 446.23577880859375,
          "xref": "x2",
          "y0": 0,
          "y1": -8511.017578125,
          "yref": "y2"
         },
         {
          "line": {
           "color": "red",
           "width": 1.5
          },
          "type": "line",
          "x0": 261.1557312011719,
          "x1": 261.1557312011719,
          "xref": "x2",
          "y0": 0,
          "y1": -14287.1484375,
          "yref": "y2"
         },
         {
          "line": {
           "color": "red",
           "width": 1.5
          },
          "type": "line",
          "x0": 944.3829956054688,
          "x1": 944.3829956054688,
          "xref": "x2",
          "y0": 0,
          "y1": -8327.794921875,
          "yref": "y2"
         },
         {
          "line": {
           "color": "red",
           "width": 1.5
          },
          "type": "line",
          "x0": 851.3509521484375,
          "x1": 851.3509521484375,
          "xref": "x2",
          "y0": 0,
          "y1": -26247.033203125,
          "yref": "y2"
         },
         {
          "line": {
           "color": "red",
           "width": 1.5
          },
          "type": "line",
          "x0": 793.8375244140625,
          "x1": 793.8375244140625,
          "xref": "x2",
          "y0": 0,
          "y1": -12351.8330078125,
          "yref": "y2"
         },
         {
          "line": {
           "color": "red",
           "width": 1.5
          },
          "type": "line",
          "x0": 729.3162231445312,
          "x1": 729.3162231445312,
          "xref": "x2",
          "y0": 0,
          "y1": -24294.029296875,
          "yref": "y2"
         },
         {
          "line": {
           "color": "red",
           "width": 1.5
          },
          "type": "line",
          "x0": 672.2947387695312,
          "x1": 672.2947387695312,
          "xref": "x2",
          "y0": 0,
          "y1": -15543.7490234375,
          "yref": "y2"
         },
         {
          "line": {
           "color": "red",
           "width": 1.5
          },
          "type": "line",
          "x0": 607.7734375,
          "x1": 607.7734375,
          "xref": "x2",
          "y0": 0,
          "y1": -21587.69921875,
          "yref": "y2"
         },
         {
          "line": {
           "color": "red",
           "width": 1.5
          },
          "type": "line",
          "x0": 543.2521362304688,
          "x1": 543.2521362304688,
          "xref": "x2",
          "y0": 0,
          "y1": -30068.783203125,
          "yref": "y2"
         },
         {
          "line": {
           "color": "red",
           "width": 1.5
          },
          "type": "line",
          "x0": 514.7413940429688,
          "x1": 514.7413940429688,
          "xref": "x2",
          "y0": 0,
          "y1": -6809.56591796875,
          "yref": "y2"
         },
         {
          "line": {
           "color": "red",
           "width": 1.5
          },
          "type": "line",
          "x0": 464.21759033203125,
          "x1": 464.21759033203125,
          "xref": "x2",
          "y0": 0,
          "y1": -11933.349609375,
          "yref": "y2"
         },
         {
          "line": {
           "color": "red",
           "width": 1.5
          },
          "type": "line",
          "x0": 428.69903564453125,
          "x1": 428.69903564453125,
          "xref": "x2",
          "y0": 0,
          "y1": -8327.9189453125,
          "yref": "y2"
         },
         {
          "line": {
           "color": "red",
           "width": 1.5
          },
          "type": "line",
          "x0": 320.6617126464844,
          "x1": 320.6617126464844,
          "xref": "x2",
          "y0": 0,
          "y1": -5889.1396484375,
          "yref": "y2"
         }
        ],
        "template": {
         "data": {
          "bar": [
           {
            "error_x": {
             "color": "#2a3f5f"
            },
            "error_y": {
             "color": "#2a3f5f"
            },
            "marker": {
             "line": {
              "color": "white",
              "width": 0.5
             },
             "pattern": {
              "fillmode": "overlay",
              "size": 10,
              "solidity": 0.2
             }
            },
            "type": "bar"
           }
          ],
          "barpolar": [
           {
            "marker": {
             "line": {
              "color": "white",
              "width": 0.5
             },
             "pattern": {
              "fillmode": "overlay",
              "size": 10,
              "solidity": 0.2
             }
            },
            "type": "barpolar"
           }
          ],
          "carpet": [
           {
            "aaxis": {
             "endlinecolor": "#2a3f5f",
             "gridcolor": "#C8D4E3",
             "linecolor": "#C8D4E3",
             "minorgridcolor": "#C8D4E3",
             "startlinecolor": "#2a3f5f"
            },
            "baxis": {
             "endlinecolor": "#2a3f5f",
             "gridcolor": "#C8D4E3",
             "linecolor": "#C8D4E3",
             "minorgridcolor": "#C8D4E3",
             "startlinecolor": "#2a3f5f"
            },
            "type": "carpet"
           }
          ],
          "choropleth": [
           {
            "colorbar": {
             "outlinewidth": 0,
             "ticks": ""
            },
            "type": "choropleth"
           }
          ],
          "contour": [
           {
            "colorbar": {
             "outlinewidth": 0,
             "ticks": ""
            },
            "colorscale": [
             [
              0,
              "#0d0887"
             ],
             [
              0.1111111111111111,
              "#46039f"
             ],
             [
              0.2222222222222222,
              "#7201a8"
             ],
             [
              0.3333333333333333,
              "#9c179e"
             ],
             [
              0.4444444444444444,
              "#bd3786"
             ],
             [
              0.5555555555555556,
              "#d8576b"
             ],
             [
              0.6666666666666666,
              "#ed7953"
             ],
             [
              0.7777777777777778,
              "#fb9f3a"
             ],
             [
              0.8888888888888888,
              "#fdca26"
             ],
             [
              1,
              "#f0f921"
             ]
            ],
            "type": "contour"
           }
          ],
          "contourcarpet": [
           {
            "colorbar": {
             "outlinewidth": 0,
             "ticks": ""
            },
            "type": "contourcarpet"
           }
          ],
          "heatmap": [
           {
            "colorbar": {
             "outlinewidth": 0,
             "ticks": ""
            },
            "colorscale": [
             [
              0,
              "#0d0887"
             ],
             [
              0.1111111111111111,
              "#46039f"
             ],
             [
              0.2222222222222222,
              "#7201a8"
             ],
             [
              0.3333333333333333,
              "#9c179e"
             ],
             [
              0.4444444444444444,
              "#bd3786"
             ],
             [
              0.5555555555555556,
              "#d8576b"
             ],
             [
              0.6666666666666666,
              "#ed7953"
             ],
             [
              0.7777777777777778,
              "#fb9f3a"
             ],
             [
              0.8888888888888888,
              "#fdca26"
             ],
             [
              1,
              "#f0f921"
             ]
            ],
            "type": "heatmap"
           }
          ],
          "heatmapgl": [
           {
            "colorbar": {
             "outlinewidth": 0,
             "ticks": ""
            },
            "colorscale": [
             [
              0,
              "#0d0887"
             ],
             [
              0.1111111111111111,
              "#46039f"
             ],
             [
              0.2222222222222222,
              "#7201a8"
             ],
             [
              0.3333333333333333,
              "#9c179e"
             ],
             [
              0.4444444444444444,
              "#bd3786"
             ],
             [
              0.5555555555555556,
              "#d8576b"
             ],
             [
              0.6666666666666666,
              "#ed7953"
             ],
             [
              0.7777777777777778,
              "#fb9f3a"
             ],
             [
              0.8888888888888888,
              "#fdca26"
             ],
             [
              1,
              "#f0f921"
             ]
            ],
            "type": "heatmapgl"
           }
          ],
          "histogram": [
           {
            "marker": {
             "pattern": {
              "fillmode": "overlay",
              "size": 10,
              "solidity": 0.2
             }
            },
            "type": "histogram"
           }
          ],
          "histogram2d": [
           {
            "colorbar": {
             "outlinewidth": 0,
             "ticks": ""
            },
            "colorscale": [
             [
              0,
              "#0d0887"
             ],
             [
              0.1111111111111111,
              "#46039f"
             ],
             [
              0.2222222222222222,
              "#7201a8"
             ],
             [
              0.3333333333333333,
              "#9c179e"
             ],
             [
              0.4444444444444444,
              "#bd3786"
             ],
             [
              0.5555555555555556,
              "#d8576b"
             ],
             [
              0.6666666666666666,
              "#ed7953"
             ],
             [
              0.7777777777777778,
              "#fb9f3a"
             ],
             [
              0.8888888888888888,
              "#fdca26"
             ],
             [
              1,
              "#f0f921"
             ]
            ],
            "type": "histogram2d"
           }
          ],
          "histogram2dcontour": [
           {
            "colorbar": {
             "outlinewidth": 0,
             "ticks": ""
            },
            "colorscale": [
             [
              0,
              "#0d0887"
             ],
             [
              0.1111111111111111,
              "#46039f"
             ],
             [
              0.2222222222222222,
              "#7201a8"
             ],
             [
              0.3333333333333333,
              "#9c179e"
             ],
             [
              0.4444444444444444,
              "#bd3786"
             ],
             [
              0.5555555555555556,
              "#d8576b"
             ],
             [
              0.6666666666666666,
              "#ed7953"
             ],
             [
              0.7777777777777778,
              "#fb9f3a"
             ],
             [
              0.8888888888888888,
              "#fdca26"
             ],
             [
              1,
              "#f0f921"
             ]
            ],
            "type": "histogram2dcontour"
           }
          ],
          "mesh3d": [
           {
            "colorbar": {
             "outlinewidth": 0,
             "ticks": ""
            },
            "type": "mesh3d"
           }
          ],
          "parcoords": [
           {
            "line": {
             "colorbar": {
              "outlinewidth": 0,
              "ticks": ""
             }
            },
            "type": "parcoords"
           }
          ],
          "pie": [
           {
            "automargin": true,
            "type": "pie"
           }
          ],
          "scatter": [
           {
            "marker": {
             "colorbar": {
              "outlinewidth": 0,
              "ticks": ""
             }
            },
            "type": "scatter"
           }
          ],
          "scatter3d": [
           {
            "line": {
             "colorbar": {
              "outlinewidth": 0,
              "ticks": ""
             }
            },
            "marker": {
             "colorbar": {
              "outlinewidth": 0,
              "ticks": ""
             }
            },
            "type": "scatter3d"
           }
          ],
          "scattercarpet": [
           {
            "marker": {
             "colorbar": {
              "outlinewidth": 0,
              "ticks": ""
             }
            },
            "type": "scattercarpet"
           }
          ],
          "scattergeo": [
           {
            "marker": {
             "colorbar": {
              "outlinewidth": 0,
              "ticks": ""
             }
            },
            "type": "scattergeo"
           }
          ],
          "scattergl": [
           {
            "marker": {
             "colorbar": {
              "outlinewidth": 0,
              "ticks": ""
             }
            },
            "type": "scattergl"
           }
          ],
          "scattermapbox": [
           {
            "marker": {
             "colorbar": {
              "outlinewidth": 0,
              "ticks": ""
             }
            },
            "type": "scattermapbox"
           }
          ],
          "scatterpolar": [
           {
            "marker": {
             "colorbar": {
              "outlinewidth": 0,
              "ticks": ""
             }
            },
            "type": "scatterpolar"
           }
          ],
          "scatterpolargl": [
           {
            "marker": {
             "colorbar": {
              "outlinewidth": 0,
              "ticks": ""
             }
            },
            "type": "scatterpolargl"
           }
          ],
          "scatterternary": [
           {
            "marker": {
             "colorbar": {
              "outlinewidth": 0,
              "ticks": ""
             }
            },
            "type": "scatterternary"
           }
          ],
          "surface": [
           {
            "colorbar": {
             "outlinewidth": 0,
             "ticks": ""
            },
            "colorscale": [
             [
              0,
              "#0d0887"
             ],
             [
              0.1111111111111111,
              "#46039f"
             ],
             [
              0.2222222222222222,
              "#7201a8"
             ],
             [
              0.3333333333333333,
              "#9c179e"
             ],
             [
              0.4444444444444444,
              "#bd3786"
             ],
             [
              0.5555555555555556,
              "#d8576b"
             ],
             [
              0.6666666666666666,
              "#ed7953"
             ],
             [
              0.7777777777777778,
              "#fb9f3a"
             ],
             [
              0.8888888888888888,
              "#fdca26"
             ],
             [
              1,
              "#f0f921"
             ]
            ],
            "type": "surface"
           }
          ],
          "table": [
           {
            "cells": {
             "fill": {
              "color": "#EBF0F8"
             },
             "line": {
              "color": "white"
             }
            },
            "header": {
             "fill": {
              "color": "#C8D4E3"
             },
             "line": {
              "color": "white"
             }
            },
            "type": "table"
           }
          ]
         },
         "layout": {
          "annotationdefaults": {
           "arrowcolor": "#2a3f5f",
           "arrowhead": 0,
           "arrowwidth": 1
          },
          "autotypenumbers": "strict",
          "coloraxis": {
           "colorbar": {
            "outlinewidth": 0,
            "ticks": ""
           }
          },
          "colorscale": {
           "diverging": [
            [
             0,
             "#8e0152"
            ],
            [
             0.1,
             "#c51b7d"
            ],
            [
             0.2,
             "#de77ae"
            ],
            [
             0.3,
             "#f1b6da"
            ],
            [
             0.4,
             "#fde0ef"
            ],
            [
             0.5,
             "#f7f7f7"
            ],
            [
             0.6,
             "#e6f5d0"
            ],
            [
             0.7,
             "#b8e186"
            ],
            [
             0.8,
             "#7fbc41"
            ],
            [
             0.9,
             "#4d9221"
            ],
            [
             1,
             "#276419"
            ]
           ],
           "sequential": [
            [
             0,
             "#0d0887"
            ],
            [
             0.1111111111111111,
             "#46039f"
            ],
            [
             0.2222222222222222,
             "#7201a8"
            ],
            [
             0.3333333333333333,
             "#9c179e"
            ],
            [
             0.4444444444444444,
             "#bd3786"
            ],
            [
             0.5555555555555556,
             "#d8576b"
            ],
            [
             0.6666666666666666,
             "#ed7953"
            ],
            [
             0.7777777777777778,
             "#fb9f3a"
            ],
            [
             0.8888888888888888,
             "#fdca26"
            ],
            [
             1,
             "#f0f921"
            ]
           ],
           "sequentialminus": [
            [
             0,
             "#0d0887"
            ],
            [
             0.1111111111111111,
             "#46039f"
            ],
            [
             0.2222222222222222,
             "#7201a8"
            ],
            [
             0.3333333333333333,
             "#9c179e"
            ],
            [
             0.4444444444444444,
             "#bd3786"
            ],
            [
             0.5555555555555556,
             "#d8576b"
            ],
            [
             0.6666666666666666,
             "#ed7953"
            ],
            [
             0.7777777777777778,
             "#fb9f3a"
            ],
            [
             0.8888888888888888,
             "#fdca26"
            ],
            [
             1,
             "#f0f921"
            ]
           ]
          },
          "colorway": [
           "#636efa",
           "#EF553B",
           "#00cc96",
           "#ab63fa",
           "#FFA15A",
           "#19d3f3",
           "#FF6692",
           "#B6E880",
           "#FF97FF",
           "#FECB52"
          ],
          "font": {
           "color": "#2a3f5f"
          },
          "geo": {
           "bgcolor": "white",
           "lakecolor": "white",
           "landcolor": "white",
           "showlakes": true,
           "showland": true,
           "subunitcolor": "#C8D4E3"
          },
          "hoverlabel": {
           "align": "left"
          },
          "hovermode": "closest",
          "mapbox": {
           "style": "light"
          },
          "paper_bgcolor": "white",
          "plot_bgcolor": "white",
          "polar": {
           "angularaxis": {
            "gridcolor": "#EBF0F8",
            "linecolor": "#EBF0F8",
            "ticks": ""
           },
           "bgcolor": "white",
           "radialaxis": {
            "gridcolor": "#EBF0F8",
            "linecolor": "#EBF0F8",
            "ticks": ""
           }
          },
          "scene": {
           "xaxis": {
            "backgroundcolor": "white",
            "gridcolor": "#DFE8F3",
            "gridwidth": 2,
            "linecolor": "#EBF0F8",
            "showbackground": true,
            "ticks": "",
            "zerolinecolor": "#EBF0F8"
           },
           "yaxis": {
            "backgroundcolor": "white",
            "gridcolor": "#DFE8F3",
            "gridwidth": 2,
            "linecolor": "#EBF0F8",
            "showbackground": true,
            "ticks": "",
            "zerolinecolor": "#EBF0F8"
           },
           "zaxis": {
            "backgroundcolor": "white",
            "gridcolor": "#DFE8F3",
            "gridwidth": 2,
            "linecolor": "#EBF0F8",
            "showbackground": true,
            "ticks": "",
            "zerolinecolor": "#EBF0F8"
           }
          },
          "shapedefaults": {
           "line": {
            "color": "#2a3f5f"
           }
          },
          "ternary": {
           "aaxis": {
            "gridcolor": "#DFE8F3",
            "linecolor": "#A2B1C6",
            "ticks": ""
           },
           "baxis": {
            "gridcolor": "#DFE8F3",
            "linecolor": "#A2B1C6",
            "ticks": ""
           },
           "bgcolor": "white",
           "caxis": {
            "gridcolor": "#DFE8F3",
            "linecolor": "#A2B1C6",
            "ticks": ""
           }
          },
          "title": {
           "x": 0.05
          },
          "xaxis": {
           "automargin": true,
           "gridcolor": "#EBF0F8",
           "linecolor": "#EBF0F8",
           "ticks": "",
           "title": {
            "standoff": 15
           },
           "zerolinecolor": "#EBF0F8",
           "zerolinewidth": 2
          },
          "yaxis": {
           "automargin": true,
           "gridcolor": "#EBF0F8",
           "linecolor": "#EBF0F8",
           "ticks": "",
           "title": {
            "standoff": 15
           },
           "zerolinecolor": "#EBF0F8",
           "zerolinewidth": 2
          }
         }
        },
        "title": {
         "text": "_EDGEDENEEGTASEHGGQNK_,3 PCC=0.691",
         "yanchor": "bottom"
        },
        "xaxis": {
         "anchor": "y",
         "domain": [
          0,
          1
         ],
         "matches": "x",
         "visible": false
        },
        "xaxis2": {
         "anchor": "y2",
         "domain": [
          0,
          1
         ],
         "matches": "x"
        },
        "xaxis3": {
         "anchor": "y3",
         "domain": [
          0,
          1
         ],
         "matches": "x"
        },
        "yaxis": {
         "anchor": "x",
         "domain": [
          0.875,
          1
         ],
         "range": [
          -1.1,
          1.1
         ],
         "title": {
          "text": "intensity"
         },
         "visible": false
        },
        "yaxis2": {
         "anchor": "x2",
         "domain": [
          0.175,
          0.825
         ],
         "title": {
          "text": "intensity"
         }
        },
        "yaxis3": {
         "anchor": "x3",
         "domain": [
          0,
          0.125
         ],
         "title": {
          "text": "m/z err"
         }
        }
       }
      }
     },
     "metadata": {},
     "output_type": "display_data"
    }
   ],
   "source": [
    "from random import randint\n",
    "model_mgr.verbose = False\n",
    "ms_viz.remove_unlabeled_fragments = False\n",
    "ith_psm = randint(0, len(ms_viz.psm_df)-1)\n",
    "peptide_info_0 = ms_viz.predict_one_pep_frag_df(\n",
    "    ms_viz.psm_df.iloc[ith_psm]\n",
    ")\n",
    "ms2_fig = ms_viz.plot_mirror_ms2(\n",
    "    peptide_info_0,\n",
    "    plot_unmatched_peaks=False,\n",
    ")\n",
    "ms2_fig.show()"
   ]
  },
  {
   "cell_type": "code",
   "execution_count": null,
   "metadata": {},
   "outputs": [],
   "source": []
  }
 ],
 "metadata": {
  "kernelspec": {
   "display_name": "base",
   "language": "python",
   "name": "python3"
  },
  "language_info": {
   "codemirror_mode": {
    "name": "ipython",
    "version": 3
   },
   "file_extension": ".py",
   "mimetype": "text/x-python",
   "name": "python",
   "nbconvert_exporter": "python",
   "pygments_lexer": "ipython3",
   "version": "3.8.12"
  },
  "toc": {
   "base_numbering": 1,
   "nav_menu": {},
   "number_sections": true,
   "sideBar": true,
   "skip_h1_title": false,
   "title_cell": "Table of Contents",
   "title_sidebar": "Contents",
   "toc_cell": false,
   "toc_position": {},
   "toc_section_display": true,
   "toc_window_display": false
  },
  "vscode": {
   "interpreter": {
    "hash": "af8259ad5c1c9c7a69bd6ea085234cf8fd3a6a37a71ca551828b314c4d89b0ad"
   }
  }
 },
 "nbformat": 4,
 "nbformat_minor": 4
}
