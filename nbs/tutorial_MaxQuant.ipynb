{
 "cells": [
  {
   "cell_type": "markdown",
   "metadata": {},
   "source": [
    "# AlphaViz tutorial"
   ]
  },
  {
   "cell_type": "markdown",
   "metadata": {},
   "source": [
    "This tutorial covers the basics of using AlphaViz as a Python package. It includes the following sections:\n",
    "1. [**Setup**](#ISetup)\n",
    "2. [**Data upload**](#Data-upload)\n",
    "3. [**Analysis**](#Analysis)  \n",
    "    a) [**Protein level**](#Protein-level)  \n",
    "    b) [**Peptide level**](#Peptide-level)\n",
    "4. [**Prediction of theoretical mass spectrum**](#Prediction-of-theoretical-mass-spectrum)\n",
    "5. [**Quality control of the entire sample**](#Quality-control-of-the-entire-sample)"
   ]
  },
  {
   "cell_type": "markdown",
   "metadata": {},
   "source": [
    "# Setup"
   ]
  },
  {
   "cell_type": "markdown",
   "metadata": {},
   "source": [
    "### Import all necessary libraries"
   ]
  },
  {
   "cell_type": "code",
   "execution_count": null,
   "metadata": {},
   "outputs": [],
   "source": [
    "import os\n",
    "import logging\n",
    "import pandas as pd\n",
    "from io import StringIO\n",
    "\n",
    "import alphatims.bruker\n",
    "import alphatims.utils\n",
    "\n",
    "# visualization\n",
    "import panel as pn\n",
    "import bokeh.server.views.ws\n",
    "from bokeh.models.widgets.tables import NumberFormatter\n",
    "import holoviews as hv\n",
    "\n",
    "# local\n",
    "import alphaviz\n",
    "import alphaviz.utils\n",
    "import alphaviz.io\n",
    "import alphaviz.preprocessing\n",
    "import alphaviz.plotting\n",
    "import alphaviz.gui\n",
    "\n",
    "pd.set_option('display.max_columns', None)"
   ]
  },
  {
   "cell_type": "markdown",
   "metadata": {},
   "source": [
    "To save the Plotly plots as .svg, you need to add this code with the name of the file inside the show function:\n",
    "`.show(config=alphaviz.gui.update_config(filename='elution_profile.svg'))` and when the plot is shown, click the \"Download plot\" button on the Plotly tool panel.  \n",
    "\n",
    "You can also specify the height and width of the saved plot. See example for the Chromatogram plot."
   ]
  },
  {
   "cell_type": "markdown",
   "metadata": {},
   "source": [
    "### Set paths to raw data, software analysis output folder (MaxQuant), fasta file"
   ]
  },
  {
   "cell_type": "code",
   "execution_count": null,
   "metadata": {},
   "outputs": [],
   "source": [
    "# path to the .d folder or .hdf file\n",
    "experimental_file = '/Users/eugeniavoytik/Projects/DIANN_peptides_per_protein/1.ddaPASEF_from_onlinePASEF_paper/20190504_TIMS1_FlMe_SA_HeLa_frac01_A10_1_93.hdf'\n",
    "# path to the MQ output folder\n",
    "mq_output_folder = '/Users/eugeniavoytik/Projects/DIANN_peptides_per_protein/1.ddaPASEF_from_onlinePASEF_paper/txt'\n",
    "# path to the fasta file\n",
    "fasta_file = '/Users/eugeniavoytik/copied/Bruker/MaxQuant_output_tables/20210413_TIMS03_EVO03_PaSk_MA_HeLa_200ng_S1-A1_1_24848.d/txt/human.fasta'"
   ]
  },
  {
   "cell_type": "markdown",
   "metadata": {},
   "source": [
    "# Data upload"
   ]
  },
  {
   "cell_type": "markdown",
   "metadata": {},
   "source": [
    "### 1) Load the raw file"
   ]
  },
  {
   "cell_type": "code",
   "execution_count": null,
   "metadata": {},
   "outputs": [],
   "source": [
    "# Bruker\n",
    "raw_data = alphatims.bruker.TimsTOF(experimental_file)"
   ]
  },
  {
   "cell_type": "markdown",
   "metadata": {},
   "source": [
    "### 2) Load the files from the MaxQuant output folder needed for visualization"
   ]
  },
  {
   "cell_type": "code",
   "execution_count": null,
   "metadata": {},
   "outputs": [],
   "source": [
    "all_peptides, msms, evidence, protein_groups, summary = alphaviz.io.import_mq_output(\n",
    "    ['allPeptides.txt', 'msms.txt', 'evidence.txt', 'proteinGroups.txt', 'summary.txt'],\n",
    "    mq_output_folder,\n",
    "    os.path.basename(experimental_file).split('.')[0]\n",
    ")"
   ]
  },
  {
   "cell_type": "markdown",
   "metadata": {},
   "source": [
    "### 3) Load the fasta file"
   ]
  },
  {
   "cell_type": "code",
   "execution_count": null,
   "metadata": {},
   "outputs": [],
   "source": [
    "fasta = alphaviz.io.read_fasta(fasta_file)"
   ]
  },
  {
   "cell_type": "markdown",
   "metadata": {},
   "source": [
    "# Analysis"
   ]
  },
  {
   "cell_type": "markdown",
   "metadata": {},
   "source": [
    "To start the analysis, show the \"Chromatograms\" plot that visualises the total ion chromatograms and the base peak chromatograms for MS1 and MS2 data."
   ]
  },
  {
   "cell_type": "code",
   "execution_count": null,
   "metadata": {},
   "outputs": [],
   "source": [
    "chromatograms_plot = alphaviz.plotting.plot_chrom(raw_data, colorscale_qualitative=\"Pastel\")\n",
    "chromatograms_plot.show(config=alphaviz.gui.update_config(filename='chromatograms.svg', height=400, width=600))"
   ]
  },
  {
   "cell_type": "markdown",
   "metadata": {},
   "source": [
    "## Protein level"
   ]
  },
  {
   "cell_type": "markdown",
   "metadata": {},
   "source": [
    "To assess the quality of each protein individually, provide the gene name of the protein."
   ]
  },
  {
   "cell_type": "code",
   "execution_count": null,
   "metadata": {},
   "outputs": [],
   "source": [
    "gene_name = 'IFRD1'"
   ]
  },
  {
   "cell_type": "code",
   "execution_count": null,
   "metadata": {},
   "outputs": [],
   "source": [
    "# get the sequence of the specified protein from the fasta file\n",
    "protein_seq = alphaviz.preprocessing.get_aa_seq(\n",
    "    protein_groups[protein_groups['Gene names'] == gene_name]['Protein IDs'].values[0],\n",
    "    fasta,\n",
    ")"
   ]
  },
  {
   "cell_type": "markdown",
   "metadata": {},
   "source": [
    "Here you can see a filtered data frame containing information about **all peptides** identified for the selected protein sorted bu the Andromeda score."
   ]
  },
  {
   "cell_type": "code",
   "execution_count": null,
   "metadata": {},
   "outputs": [],
   "source": [
    "peptides_table = evidence[evidence['Gene names'] == gene_name]\n",
    "peptides_table = peptides_table.sort_values('Andromeda score', ascending=False)\n",
    "peptides_table"
   ]
  },
  {
   "cell_type": "markdown",
   "metadata": {},
   "source": [
    "To explore the position of identified peptides on a protein sequence, plot protein coverage for all peptides simultaneously or just for selected peptide (see below)."
   ]
  },
  {
   "cell_type": "code",
   "execution_count": null,
   "metadata": {},
   "outputs": [],
   "source": [
    "protein_coverage_plot = alphaviz.plotting.plot_sequence_coverage(\n",
    "    protein_seq,\n",
    "    gene_name,\n",
    "    peptides_table['Modified sequence'].tolist(),\n",
    "    colorscale_qualitative=\"Plotly\", \n",
    "    colorscale_sequential=\"Viridis\",\n",
    "    regex=r\"\\[([^]]+)\\]|\\((\\w+)\\)\",\n",
    ")\n",
    "protein_coverage_plot"
   ]
  },
  {
   "cell_type": "markdown",
   "metadata": {},
   "source": [
    "## Peptide level"
   ]
  },
  {
   "cell_type": "markdown",
   "metadata": {},
   "source": [
    "From this point onwards, we are going to assess the individual quality of each peptide."
   ]
  },
  {
   "cell_type": "code",
   "execution_count": null,
   "metadata": {},
   "outputs": [],
   "source": [
    "# specify the index of the peptide from the peptides table that you'd like to explore further \n",
    "selected_peptide_index = 187773"
   ]
  },
  {
   "cell_type": "code",
   "execution_count": null,
   "metadata": {},
   "outputs": [],
   "source": [
    "protein_coverage_plot_one_peptide = alphaviz.plotting.plot_sequence_coverage(\n",
    "    protein_seq,\n",
    "    gene_name,\n",
    "    [peptides_table.loc[selected_peptide_index, 'Modified sequence']],\n",
    "    colorscale_qualitative=\"Alphabet\", \n",
    "    colorscale_sequential=\"Viridis\",\n",
    "    regex=r\"\\[([^]]+)\\]|\\((\\w+)\\)\",\n",
    ")\n",
    "protein_coverage_plot_one_peptide"
   ]
  },
  {
   "cell_type": "code",
   "execution_count": null,
   "metadata": {},
   "outputs": [],
   "source": [
    "# some preprocessing steps\n",
    "scan_number = [int(scan) for scan in [peptides_table.loc[selected_peptide_index, 'MS/MS scan number']]]\n",
    "pasef_ids = [int(pasef_id) for pasef_id in all_peptides[all_peptides['MS/MS scan number'].isin(scan_number)]['Pasef MS/MS IDs'].values[0]]\n",
    "precursors = raw_data.fragment_frames[raw_data.fragment_frames.index.isin(pasef_ids)]\n",
    "merged_precursor_data = pd.merge(\n",
    "    precursors, raw_data.precursors[raw_data.precursors.Id.isin(precursors.Precursor.values)],\n",
    "    left_on='Precursor',\n",
    "    right_on='Id'\n",
    ")\n",
    "merged_precursor_data['Frame_Prec'] = list(zip(merged_precursor_data.Frame, merged_precursor_data.Precursor))\n",
    "ms1_ms2_frames = dict(zip(merged_precursor_data.Parent, merged_precursor_data.Frame_Prec))\n",
    "current_frame = list(ms1_ms2_frames.keys())[0]"
   ]
  },
  {
   "cell_type": "code",
   "execution_count": null,
   "metadata": {},
   "outputs": [],
   "source": [
    "# information about the MS1 frames as keys and (MS2 frames and precursor ID) as values\n",
    "ms1_ms2_frames"
   ]
  },
  {
   "cell_type": "markdown",
   "metadata": {},
   "source": [
    "Specify the tolerance settings:"
   ]
  },
  {
   "cell_type": "code",
   "execution_count": null,
   "metadata": {},
   "outputs": [],
   "source": [
    "xic_tol_value = 15 # in ppm\n",
    "xic_im_tol = 0.05 # in 1/K0\n",
    "rt_tolerance = 30 # sec"
   ]
  },
  {
   "cell_type": "markdown",
   "metadata": {},
   "source": [
    "Slice the raw data based on the precursor mz, m/z and im tolerance and visualize the extracted ion chromatogram (XIC), mobilogram and MS1 spectrum for the selected peptide."
   ]
  },
  {
   "cell_type": "code",
   "execution_count": null,
   "metadata": {
    "scrolled": false
   },
   "outputs": [],
   "source": [
    "prec_mono_mz = merged_precursor_data.MonoisotopicMz.median()\n",
    "prec_mono_low_mz = prec_mono_mz / (1 + xic_tol_value / 10**6)\n",
    "prec_mono_high_mz = prec_mono_mz * (1 + xic_tol_value / 10**6)\n",
    "rt_low_sec = float(peptides_table.loc[selected_peptide_index, 'Retention time'])*60 - rt_tolerance\n",
    "rt_upp_sec = float(peptides_table.loc[selected_peptide_index, 'Retention time'])*60 + rt_tolerance\n",
    "\n",
    "for x_axis_label in ['rt', 'mobility', 'mz']:\n",
    "    if x_axis_label == 'rt':\n",
    "        one_over_k0 = float(peptides_table.loc[selected_peptide_index, '1/K0'])\n",
    "        one_over_k0_low, one_over_k0_high = one_over_k0 - xic_im_tol, one_over_k0 + xic_im_tol\n",
    "        precursor_indices = raw_data[\n",
    "            :,\n",
    "            one_over_k0_low : one_over_k0_high,\n",
    "            :,\n",
    "            prec_mono_low_mz : prec_mono_high_mz,\n",
    "            'raw'\n",
    "        ]\n",
    "    elif x_axis_label == 'mobility':\n",
    "        precursor_indices = raw_data[\n",
    "            rt_low_sec:rt_upp_sec,\n",
    "            :,\n",
    "            :,\n",
    "            prec_mono_low_mz : prec_mono_high_mz,\n",
    "            'raw'\n",
    "        ]\n",
    "    else:\n",
    "        precursor_indices = raw_data[\n",
    "            current_frame,\n",
    "            'raw'\n",
    "        ]\n",
    "    alphaviz.plotting.plot_line(\n",
    "        raw_data,\n",
    "        precursor_indices,\n",
    "        x_axis_label,\n",
    "        colorscale_qualitative=\"Pastel\",\n",
    "    ).show()        "
   ]
  },
  {
   "cell_type": "markdown",
   "metadata": {},
   "source": [
    "Visualize the MS1 or MS2 frame for the selected peptide with the location where the precursor has been selected for analysis."
   ]
  },
  {
   "cell_type": "code",
   "execution_count": null,
   "metadata": {},
   "outputs": [],
   "source": [
    "hv.extension('bokeh')"
   ]
  },
  {
   "cell_type": "code",
   "execution_count": null,
   "metadata": {},
   "outputs": [],
   "source": [
    "ms1 = alphaviz.plotting.plot_heatmap(\n",
    "    raw_data[current_frame],\n",
    "    mz=float(peptides_table.loc[selected_peptide_index, 'm/z']),\n",
    "    im=float(peptides_table.loc[selected_peptide_index, '1/K0']),\n",
    "    x_axis_label='m/z, Th',\n",
    "    y_axis_label='Inversed IM, V·s·cm\\u207B\\u00B2',\n",
    "    title=f'MS1 frame(s) #{current_frame}',\n",
    "    colormap='fire',\n",
    "    background_color='black',\n",
    "    precursor_size=15,\n",
    "    precursor_color='blue',\n",
    "    width=600\n",
    ")\n",
    "ms1"
   ]
  },
  {
   "cell_type": "code",
   "execution_count": null,
   "metadata": {},
   "outputs": [],
   "source": [
    "ms2 = alphaviz.plotting.plot_heatmap(\n",
    "    raw_data[ms1_ms2_frames[current_frame][0]],\n",
    "    x_axis_label='m/z, Th',\n",
    "    y_axis_label='Inversed IM, V·s·cm\\u207B\\u00B2',\n",
    "    title=f'MS2 frame(s) #{ms1_ms2_frames[current_frame][0]}',\n",
    "    colormap='fire',\n",
    "    background_color='black',\n",
    "    width=600,\n",
    ")\n",
    "ms2"
   ]
  },
  {
   "cell_type": "markdown",
   "metadata": {},
   "source": [
    "Each of the heatmap can be saved as .svg:"
   ]
  },
  {
   "cell_type": "code",
   "execution_count": null,
   "metadata": {},
   "outputs": [],
   "source": [
    "alphaviz.plotting.export_svg(ms2, 'plot_ms2_heatmap.svg', height=600, width=600)"
   ]
  },
  {
   "cell_type": "markdown",
   "metadata": {},
   "source": [
    "For each of the MS2 frames where the peptide was identified, visualize the MS2 spectrum with a mass error plot for each ion and annotated peptide sequence as subplots."
   ]
  },
  {
   "cell_type": "code",
   "execution_count": null,
   "metadata": {
    "scrolled": false
   },
   "outputs": [],
   "source": [
    "for each in ms1_ms2_frames.keys():\n",
    "\n",
    "    data_ions = alphaviz.preprocessing.get_mq_ms2_scan_data(\n",
    "        msms,\n",
    "        scan_number[0],\n",
    "        raw_data,\n",
    "        ms1_ms2_frames[each][1]\n",
    "    )\n",
    "\n",
    "    alphaviz.plotting.plot_complex_ms_plot(\n",
    "        data_ions,\n",
    "        title=f'MS2 spectrum for Precursor: {ms1_ms2_frames[current_frame][1]}',\n",
    "        sequence=peptides_table.loc[selected_peptide_index, 'Sequence'],\n",
    "    ).show()\n"
   ]
  },
  {
   "cell_type": "markdown",
   "metadata": {},
   "source": [
    "# Prediction of theoretical mass spectrum"
   ]
  },
  {
   "cell_type": "code",
   "execution_count": null,
   "metadata": {},
   "outputs": [],
   "source": [
    "import peptdeep\n",
    "from peptdeep.pretrained_models import ModelManager\n",
    "\n",
    "model_mgr = ModelManager()\n",
    "model_mgr.load_installed_models()"
   ]
  },
  {
   "cell_type": "markdown",
   "metadata": {},
   "source": [
    "Load the evidence file in the form necessary for the prediction:"
   ]
  },
  {
   "cell_type": "code",
   "execution_count": null,
   "metadata": {},
   "outputs": [],
   "source": [
    "from alphabase.io.psm_reader import psm_reader_provider\n",
    "\n",
    "mq_reader = psm_reader_provider.get_reader('maxquant')\n",
    "mq_reader.load(mq_output_folder + '/evidence.txt')\n",
    "psm_df = mq_reader.psm_df.groupby(['sequence','mods','mod_sites','nAA','charge','spec_idx'])['ccs'].median().reset_index()\n",
    "psm_df['nce'] = 0.3\n",
    "psm_df['instrument'] = 'timsTOF'\n",
    "psm_df.head()"
   ]
  },
  {
   "cell_type": "markdown",
   "metadata": {},
   "source": [
    "To run the prediction for one peptide, slice the data based on the spec_idx and its sequence."
   ]
  },
  {
   "cell_type": "code",
   "execution_count": null,
   "metadata": {},
   "outputs": [],
   "source": [
    "data_slice = psm_df.loc[(psm_df.sequence == peptides_table.loc[selected_peptide_index, 'Sequence'])&(psm_df.spec_idx == peptides_table.loc[selected_peptide_index, 'MS/MS scan number'])]\n",
    "data_slice"
   ]
  },
  {
   "cell_type": "markdown",
   "metadata": {},
   "source": [
    "Run the intensity prediction:"
   ]
  },
  {
   "cell_type": "code",
   "execution_count": null,
   "metadata": {},
   "outputs": [],
   "source": [
    "predlib = model_mgr.predict_all(data_slice, predict_items=['ms2'], frag_types=['b_z1', 'y_z1'], multiprocessing=False)"
   ]
  },
  {
   "cell_type": "code",
   "execution_count": null,
   "metadata": {},
   "outputs": [],
   "source": [
    "mz_ions = predlib['fragment_mz_df']\n",
    "\n",
    "intensities_ions = predlib['fragment_intensity_df']\n",
    "intensities_ions *= -100\n",
    "\n",
    "predicted_df = pd.DataFrame(columns=['FragmentMz', 'RelativeIntensity','ions'])\n",
    "\n",
    "predicted_df['FragmentMz'] = mz_ions.b_z1.values.tolist() + mz_ions.y_z1.values.tolist()[::-1]\n",
    "predicted_df['RelativeIntensity'] = intensities_ions.b_z1.values.tolist() + intensities_ions.y_z1.values.tolist()[::-1]\n",
    "predicted_df['ions'] = [f\"b{i}\" for i in range(1, len(mz_ions.b_z1)+1)] + [f\"y{i}\" for i in range(1, len(mz_ions.y_z1)+1)]\n",
    "\n",
    "predicted_df.head()"
   ]
  },
  {
   "cell_type": "code",
   "execution_count": null,
   "metadata": {
    "scrolled": false
   },
   "outputs": [],
   "source": [
    "# for the first MS2 frame\n",
    "ms1_frame = 46538\n",
    "\n",
    "data_ions = alphaviz.preprocessing.get_mq_ms2_scan_data(\n",
    "    msms,\n",
    "    scan_number[0],\n",
    "    raw_data,\n",
    "    ms1_ms2_frames[ms1_frame][1]\n",
    ")\n",
    "\n",
    "alphaviz.plotting.plot_complex_ms_plot(\n",
    "    data_ions,\n",
    "    title=f'MS2 spectrum for Precursor: {ms1_ms2_frames[ms1_frame][1]}',\n",
    "    sequence=peptides_table.loc[selected_peptide_index, 'Sequence'],\n",
    "    predicted=(predicted_df.FragmentMz, predicted_df.RelativeIntensity, predicted_df.ions)\n",
    ")"
   ]
  },
  {
   "cell_type": "markdown",
   "metadata": {},
   "source": [
    "# Quality control of the entire sample"
   ]
  },
  {
   "cell_type": "markdown",
   "metadata": {},
   "source": [
    "Here you can find several quality control plots for the entire sample. "
   ]
  },
  {
   "cell_type": "code",
   "execution_count": null,
   "metadata": {},
   "outputs": [],
   "source": [
    "uncalb_mass_dens_plot = alphaviz.plotting.plot_mass_error(\n",
    "    evidence,\n",
    "    'm/z',\n",
    "    'Uncalibrated mass error [ppm]',\n",
    "    'Uncalibrated mass density plot'\n",
    ")\n",
    "uncalb_mass_dens_plot"
   ]
  },
  {
   "cell_type": "code",
   "execution_count": null,
   "metadata": {},
   "outputs": [],
   "source": [
    "peptide_per_protein_distr = alphaviz.plotting.plot_pept_per_protein_barplot(\n",
    "    protein_groups,\n",
    "    '(EXP) # peptides',\n",
    "    'Peptides per protein',\n",
    ")\n",
    "peptide_per_protein_distr"
   ]
  },
  {
   "cell_type": "code",
   "execution_count": null,
   "metadata": {},
   "outputs": [],
   "source": [
    "peptide_mz_distr = alphaviz.plotting.plot_peptide_distr(\n",
    "    evidence,\n",
    "    'm/z',\n",
    "    'Peptide m/z distribution'\n",
    ")\n",
    "peptide_mz_distr"
   ]
  },
  {
   "cell_type": "code",
   "execution_count": null,
   "metadata": {},
   "outputs": [],
   "source": [
    "peptide_length_distr = alphaviz.plotting.plot_peptide_distr(\n",
    "   evidence,\n",
    "    'K0 length',\n",
    "    'Peptide length distribution'\n",
    ")\n",
    "peptide_length_distr"
   ]
  }
 ],
 "metadata": {
  "kernelspec": {
   "display_name": "Python 3 (ipykernel)",
   "language": "python",
   "name": "python3"
  },
  "language_info": {
   "codemirror_mode": {
    "name": "ipython",
    "version": 3
   },
   "file_extension": ".py",
   "mimetype": "text/x-python",
   "name": "python",
   "nbconvert_exporter": "python",
   "pygments_lexer": "ipython3",
   "version": "3.8.12"
  },
  "toc": {
   "base_numbering": 1,
   "nav_menu": {},
   "number_sections": true,
   "sideBar": true,
   "skip_h1_title": false,
   "title_cell": "Table of Contents",
   "title_sidebar": "Contents",
   "toc_cell": false,
   "toc_position": {},
   "toc_section_display": true,
   "toc_window_display": false
  }
 },
 "nbformat": 4,
 "nbformat_minor": 4
}
